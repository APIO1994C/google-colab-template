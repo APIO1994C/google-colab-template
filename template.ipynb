{
  "nbformat": 4,
  "nbformat_minor": 0,
  "metadata": {
    "orig_nbformat": 4,
    "colab": {
      "name": "template.ipynb",
      "provenance": [],
      "include_colab_link": true
    },
    "language_info": {
      "name": "python"
    },
    "kernelspec": {
      "name": "python3",
      "display_name": "Python 3"
    }
  },
  "cells": [
    {
      "cell_type": "markdown",
      "metadata": {
        "id": "view-in-github",
        "colab_type": "text"
      },
      "source": [
        "<a href=\"https://colab.research.google.com/github/advbioinfo/google-colab-template/blob/master/template.ipynb\" target=\"_parent\"><img src=\"https://colab.research.google.com/assets/colab-badge.svg\" alt=\"Open In Colab\"/></a>"
      ]
    },
    {
      "cell_type": "markdown",
      "metadata": {
        "id": "8kEru0g5dW6v"
      },
      "source": [
        "# [AdvancedBioinformatics1] Google colab notebook template\n",
        "\n",
        "This is a template for Google colab notebook which will be used in your presentation\n",
        "in Advanced Bioinformatics 1 lecture.\n",
        "Your notebook should provide some examples of the method you present and contain \n",
        "these sections;\n",
        "1. Install\n",
        "2. Usage Test\n",
        "3. Example\n",
        "4. Visualization"
      ]
    },
    {
      "cell_type": "markdown",
      "metadata": {
        "id": "Wz5CXzTWdW6z"
      },
      "source": [
        "## 00. Setup\n",
        "Your notebook may contain some scripts which should be run before execution.\n",
        "These are examples."
      ]
    },
    {
      "cell_type": "markdown",
      "metadata": {
        "id": "CGflmaZbdW60"
      },
      "source": [
        "## 00-1. Mount Google Drive\n",
        "You may mount data from your google drive with the cell below. \n",
        "Authenticate by tapping the address that appears on the screen and enter the verification code below it."
      ]
    },
    {
      "cell_type": "code",
      "metadata": {
        "id": "OaINAeiNdW61"
      },
      "source": [
        "from google.colab import drive\n",
        "drive.mount('/content/drive')"
      ],
      "execution_count": null,
      "outputs": []
    },
    {
      "cell_type": "markdown",
      "metadata": {
        "id": "W4ve6q_ydW62"
      },
      "source": [
        "## 00-2. Open terminal\n",
        "For running commands, you can open a shell with the code below.\n",
        "If you click the address which starts with https://teleconsole.com, a new window with\n",
        "a terminal will be opened. This terminal shares the program installed with the notebook."
      ]
    },
    {
      "cell_type": "code",
      "metadata": {
        "id": "32Ufu4kPdW63"
      },
      "source": [
        "# You can run shell commands with \"!\" at the start of a line or \"%%bash\" at the start of a cell in the notebook.\n",
        "!pip install kora\n",
        "from kora import console\n",
        "console.start()  # and click link"
      ],
      "execution_count": null,
      "outputs": []
    },
    {
      "cell_type": "markdown",
      "metadata": {
        "id": "0kbSuBkHdW64"
      },
      "source": [
        "## 01. Installation\n",
        "This section should be accompanied by a code with instructions on how to install it."
      ]
    },
    {
      "cell_type": "code",
      "metadata": {
        "id": "V_lURaIsdW65"
      },
      "source": [
        "# Example - samtools\n",
        "# Install miniconda\n",
        "%%bash\n",
        "MINICONDA_INSTALLER_SCRIPT=Miniconda3-latest-Linux-x86_64.sh\n",
        "MINICONDA_PREFIX=/usr/local\n",
        "wget https://repo.continuum.io/miniconda/$MINICONDA_INSTALLER_SCRIPT\n",
        "chmod +x $MINICONDA_INSTALLER_SCRIPT\n",
        "./$MINICONDA_INSTALLER_SCRIPT -b -f -p $MINICONDA_PREFIX\n",
        "\n",
        "# Install samtools\n",
        "conda install -c bioconda -y samtools"
      ],
      "execution_count": null,
      "outputs": []
    },
    {
      "cell_type": "markdown",
      "metadata": {
        "id": "BL1MAKQ9dW66"
      },
      "source": [
        "## 02. Usage Test"
      ]
    },
    {
      "cell_type": "code",
      "metadata": {
        "id": "C41KAZ5vdW67"
      },
      "source": [
        "# Download example data\n",
        "# The data will be downloaded at /content at default.\n",
        "!git clone https://github.com/brainstorm/tiny-test-data.git\n",
        "# Check whether samtools work\n",
        "print(\"##### SAMTOOLS STATS HEADER #####\")\n",
        "!samtools stats /content/tiny-test-data/wgs/mt.bam > /content/mt.bam.stats\n",
        "!head /content/mt.bam.stats"
      ],
      "execution_count": null,
      "outputs": []
    },
    {
      "cell_type": "markdown",
      "metadata": {
        "id": "s3Dd2rC7dW67"
      },
      "source": [
        "## 03. Example"
      ]
    },
    {
      "cell_type": "code",
      "metadata": {
        "id": "jZ5QjkOgdW67"
      },
      "source": [
        "# sort\n",
        "!samtools sort /content/tiny-test-data/wgs/mt.bam -o /content/mt.sorted.bam\n",
        "# index\n",
        "!samtools index /content/mt.sorted.bam\n",
        "\n",
        "# mpileup\n",
        "!samtools mpileup /content/mt.sorted.bam -r chrM -o /content/mt.mpileup\n",
        "print(\"##### Mpileup file #####\")\n",
        "!head /content/mt.mpileup\n",
        "\n",
        "# fastq\n",
        "!samtools fastq /content/mt.sorted.bam -o /content/mt.fastq\n",
        "print(\"##### FASTQ file #####\")\n",
        "!head /content/mt.fastq\n",
        "\n",
        "\n",
        "# fasta\n",
        "!samtools fasta /content/mt.sorted.bam -o /content/mt.fasta\n",
        "print(\"##### FASTA file #####\")\n",
        "!head /content/mt.fasta"
      ],
      "execution_count": null,
      "outputs": []
    },
    {
      "cell_type": "markdown",
      "metadata": {
        "id": "UmY1EO-udW68"
      },
      "source": [
        "## 04. Visualization"
      ]
    },
    {
      "cell_type": "code",
      "metadata": {
        "id": "Z3WrY4SrdW68"
      },
      "source": [
        "# Histogram\n",
        "!samtools coverage -A -w 32 -r chrM /content/tiny-test-data/wgs/mt.sorted.bam"
      ],
      "execution_count": null,
      "outputs": []
    }
  ]
}