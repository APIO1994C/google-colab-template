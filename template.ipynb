{
 "cells": [
  {
   "cell_type": "markdown",
   "source": [
    "# [AdvancedBioinformatics1] Google colab notebook template\n",
    "\n",
    "This is a template for Google colab notebook which will be used in your presentation\n",
    "in Advanced Bioinformatics 1 lecture.\n",
    "Your notebook should provide some examples of the method you present and contain \n",
    "these sections;\n",
    "1. Install\n",
    "2. Usage Test\n",
    "3. Example\n",
    "4. Visualization"
   ],
   "metadata": {}
  },
  {
   "cell_type": "markdown",
   "source": [
    "## 00. Setup\n",
    "Your notebook may contain some scripts which should be run before execution.\n",
    "These are examples."
   ],
   "metadata": {}
  },
  {
   "cell_type": "markdown",
   "source": [
    "## 00-1. Mount Google Drive\n",
    "You may mount data from your google drive with the cell below. \n",
    "Authenticate by tapping the address that appears on the screen and enter the verification code below it."
   ],
   "metadata": {}
  },
  {
   "cell_type": "code",
   "execution_count": null,
   "source": [
    "from google.colab import drive\n",
    "drive.mount('/content/drive')"
   ],
   "outputs": [],
   "metadata": {}
  },
  {
   "cell_type": "markdown",
   "source": [
    "## 00-2. Open terminal\n",
    "For running commands, you can open a shell with the code below.\n",
    "If you click the address which starts with https://teleconsole.com, a new window with\n",
    "a terminal will be opened. This terminal shares the program installed with the notebook."
   ],
   "metadata": {}
  },
  {
   "cell_type": "code",
   "execution_count": null,
   "source": [
    "# You can run shell commands with \"!\" at the start of a line or \"%%bash\" at the start of a cell in the notebook.\n",
    "!pip install kora\n",
    "from kora import console\n",
    "console.start()  # and click link"
   ],
   "outputs": [],
   "metadata": {}
  },
  {
   "cell_type": "markdown",
   "source": [
    "## 01. Installation\n",
    "This section should be accompanied by a code with instructions on how to install it."
   ],
   "metadata": {}
  },
  {
   "cell_type": "code",
   "execution_count": null,
   "source": [
    "# Example - samtools\n",
    "# Install miniconda\n",
    "%%bash\n",
    "MINICONDA_INSTALLER_SCRIPT=Miniconda3-latest-Linux-x86_64.sh\n",
    "MINICONDA_PREFIX=/usr/local\n",
    "wget https://repo.continuum.io/miniconda/$MINICONDA_INSTALLER_SCRIPT\n",
    "chmod +x $MINICONDA_INSTALLER_SCRIPT\n",
    "./$MINICONDA_INSTALLER_SCRIPT -b -f -p $MINICONDA_PREFIX\n",
    "\n",
    "# Install samtools\n",
    "conda install -c bioconda -y samtools"
   ],
   "outputs": [],
   "metadata": {}
  },
  {
   "cell_type": "markdown",
   "source": [
    "## 02. Usage Test"
   ],
   "metadata": {}
  },
  {
   "cell_type": "code",
   "execution_count": null,
   "source": [
    "# Download example data\n",
    "# The data will be downloaded at /content at default.\n",
    "!git clone https://github.com/brainstorm/tiny-test-data.git\n",
    "# Check whether samtools work\n",
    "!samtools stats /content/tiny-test-data/wgs/mt.bam > /content/mt.bam.stats\n",
    "!head /content/mt.bam.stats"
   ],
   "outputs": [],
   "metadata": {}
  },
  {
   "cell_type": "markdown",
   "source": [
    "## 03. Example"
   ],
   "metadata": {}
  },
  {
   "cell_type": "code",
   "execution_count": null,
   "source": [
    "# sort\n",
    "!samtools sort /content/tiny-test-data/wgs/mt.bam -o /content/mt.sorted.bam\n",
    "\n",
    "# mpileup\n",
    "!samtools mpileup /content/mt.sorted.bam -r chrM -o /content/mt.mpileup\n",
    "print(\"Mpileup file\")\n",
    "!head /content/mt.mpileup\n",
    "\n",
    "# fastq\n",
    "!samtools fastq /content/mt.sorted.bam -o /content/mt.fastq\n",
    "print(\"FASTQ file\")\n",
    "!head /content/mt.fastq\n",
    "\n",
    "\n",
    "# fasta\n",
    "!samtools fasta /content/mt.sorted.bam -o /content/mt.fasta\n",
    "print(\"FASTA file\")\n",
    "!head /content/mt.fasta"
   ],
   "outputs": [],
   "metadata": {}
  },
  {
   "cell_type": "markdown",
   "source": [
    "## 04. Visualization"
   ],
   "metadata": {}
  },
  {
   "cell_type": "code",
   "execution_count": null,
   "source": [
    "# Histogram\n",
    "!samtools coverage -A -w 32 -r chrM /content/tiny-test-data/wgs/mt.sorted.bam"
   ],
   "outputs": [],
   "metadata": {}
  }
 ],
 "metadata": {
  "orig_nbformat": 4,
  "language_info": {
   "name": "python"
  }
 },
 "nbformat": 4,
 "nbformat_minor": 2
}