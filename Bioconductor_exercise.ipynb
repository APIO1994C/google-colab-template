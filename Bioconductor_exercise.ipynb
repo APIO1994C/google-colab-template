{
 "cells": [
  {
   "cell_type": "code",
   "execution_count": null,
   "metadata": {
    "colab": {
     "base_uri": "https://localhost:8080/",
     "height": 277
    },
    "id": "Tw5skypkNNVW",
    "outputId": "430befc9-df54-46cb-af1e-8f1c24ae7ddc"
   },
   "outputs": [
    {
     "data": {
      "text/plain": [
       "               _                           \n",
       "platform       x86_64-pc-linux-gnu         \n",
       "arch           x86_64                      \n",
       "os             linux-gnu                   \n",
       "system         x86_64, linux-gnu           \n",
       "status                                     \n",
       "major          4                           \n",
       "minor          1.1                         \n",
       "year           2021                        \n",
       "month          08                          \n",
       "day            10                          \n",
       "svn rev        80725                       \n",
       "language       R                           \n",
       "version.string R version 4.1.1 (2021-08-10)\n",
       "nickname       Kick Things                 "
      ]
     },
     "metadata": {},
     "output_type": "display_data"
    }
   ],
   "source": [
    "version"
   ]
  },
  {
   "cell_type": "code",
   "execution_count": null,
   "metadata": {
    "colab": {
     "base_uri": "https://localhost:8080/"
    },
    "id": "GHyeG5gkvjpP",
    "outputId": "ffb3d01e-eae2-4c8d-bc52-e4f55676c389"
   },
   "outputs": [
    {
     "name": "stderr",
     "output_type": "stream",
     "text": [
      "Installing package into ‘/usr/local/lib/R/site-library’\n",
      "(as ‘lib’ is unspecified)\n",
      "\n"
     ]
    }
   ],
   "source": [
    "install.packages(\"BiocManager\") # install BiocManager\n",
    "library(BiocManager)"
   ]
  },
  {
   "cell_type": "markdown",
   "metadata": {
    "id": "vAhzcNxwu9gh"
   },
   "source": [
    "## 1. Toy example"
   ]
  },
  {
   "cell_type": "markdown",
   "metadata": {
    "id": "xOPEkKW3vCA4"
   },
   "source": [
    "Example codes for GRanges & SummarizedExperiements class"
   ]
  },
  {
   "cell_type": "code",
   "execution_count": null,
   "metadata": {
    "colab": {
     "base_uri": "https://localhost:8080/"
    },
    "id": "_eiWUScJvl5U",
    "outputId": "65eb50c7-cd1f-4871-f97f-71f3ef0bafe8"
   },
   "outputs": [
    {
     "name": "stderr",
     "output_type": "stream",
     "text": [
      "'getOption(\"repos\")' replaces Bioconductor standard repositories, see\n",
      "'?repositories' for details\n",
      "\n",
      "replacement repositories:\n",
      "    CRAN: https://cran.rstudio.com\n",
      "\n",
      "\n",
      "Bioconductor version 3.13 (BiocManager 1.30.16), R 4.1.1 (2021-08-10)\n",
      "\n",
      "Installing package(s) 'BiocVersion', 'GenomicRanges'\n",
      "\n",
      "also installing the dependencies ‘bitops’, ‘RCurl’, ‘GenomeInfoDbData’, ‘zlibbioc’, ‘BiocGenerics’, ‘S4Vectors’, ‘IRanges’, ‘GenomeInfoDb’, ‘XVector’\n",
      "\n",
      "\n",
      "Old packages: 'cpp11', 'data.table', 'desc', 'diffobj', 'digest', 'hms',\n",
      "  'knitr', 'lifecycle', 'lubridate', 'mime', 'openssl', 'pillar', 'pkgload',\n",
      "  'rcmdcheck', 'readr', 'remotes', 'rlang', 'rvest', 'stringi', 'systemfonts',\n",
      "  'testthat', 'tibble', 'tidyr', 'tinytex', 'usethis', 'xfun', 'mgcv', 'nlme'\n",
      "\n",
      "Loading required package: stats4\n",
      "\n",
      "Loading required package: BiocGenerics\n",
      "\n",
      "Loading required package: parallel\n",
      "\n",
      "\n",
      "Attaching package: ‘BiocGenerics’\n",
      "\n",
      "\n",
      "The following objects are masked from ‘package:parallel’:\n",
      "\n",
      "    clusterApply, clusterApplyLB, clusterCall, clusterEvalQ,\n",
      "    clusterExport, clusterMap, parApply, parCapply, parLapply,\n",
      "    parLapplyLB, parRapply, parSapply, parSapplyLB\n",
      "\n",
      "\n",
      "The following objects are masked from ‘package:stats’:\n",
      "\n",
      "    IQR, mad, sd, var, xtabs\n",
      "\n",
      "\n",
      "The following objects are masked from ‘package:base’:\n",
      "\n",
      "    anyDuplicated, append, as.data.frame, basename, cbind, colnames,\n",
      "    dirname, do.call, duplicated, eval, evalq, Filter, Find, get, grep,\n",
      "    grepl, intersect, is.unsorted, lapply, Map, mapply, match, mget,\n",
      "    order, paste, pmax, pmax.int, pmin, pmin.int, Position, rank,\n",
      "    rbind, Reduce, rownames, sapply, setdiff, sort, table, tapply,\n",
      "    union, unique, unsplit, which.max, which.min\n",
      "\n",
      "\n",
      "Loading required package: S4Vectors\n",
      "\n",
      "\n",
      "Attaching package: ‘S4Vectors’\n",
      "\n",
      "\n",
      "The following objects are masked from ‘package:base’:\n",
      "\n",
      "    expand.grid, I, unname\n",
      "\n",
      "\n",
      "Loading required package: IRanges\n",
      "\n",
      "Loading required package: GenomeInfoDb\n",
      "\n"
     ]
    }
   ],
   "source": [
    "BiocManager::install(\"GenomicRanges\")\n",
    "library(GenomicRanges)"
   ]
  },
  {
   "cell_type": "markdown",
   "metadata": {
    "id": "7OzbOElUvNGd"
   },
   "source": [
    "## 1) Granges"
   ]
  },
  {
   "cell_type": "markdown",
   "metadata": {
    "id": "WFgN2A38vaRM"
   },
   "source": [
    "GRanges object"
   ]
  },
  {
   "cell_type": "code",
   "execution_count": null,
   "metadata": {
    "id": "-6g7iOXHEo9L"
   },
   "outputs": [],
   "source": [
    "gene_model <- GRangesList(txn1 = GRanges(\"A\", IRanges(start = c(100, 700), end = c(500, 900))),\n",
    "txn2 = GRanges(\"A\", IRanges(start = c(200, 700), end = c(500, 900))))"
   ]
  },
  {
   "cell_type": "code",
   "execution_count": null,
   "metadata": {
    "colab": {
     "base_uri": "https://localhost:8080/",
     "height": 329
    },
    "id": "ejYIwKm5GKd8",
    "outputId": "975e0359-ff42-4d1d-8743-81dfdd4b10d9"
   },
   "outputs": [
    {
     "data": {
      "text/plain": [
       "GRangesList object of length 2:\n",
       "$txn1\n",
       "GRanges object with 2 ranges and 0 metadata columns:\n",
       "      seqnames    ranges strand\n",
       "         <Rle> <IRanges>  <Rle>\n",
       "  [1]        A   100-500      *\n",
       "  [2]        A   700-900      *\n",
       "  -------\n",
       "  seqinfo: 1 sequence from an unspecified genome; no seqlengths\n",
       "\n",
       "$txn2\n",
       "GRanges object with 2 ranges and 0 metadata columns:\n",
       "      seqnames    ranges strand\n",
       "         <Rle> <IRanges>  <Rle>\n",
       "  [1]        A   200-500      *\n",
       "  [2]        A   700-900      *\n",
       "  -------\n",
       "  seqinfo: 1 sequence from an unspecified genome; no seqlengths\n"
      ]
     },
     "metadata": {},
     "output_type": "display_data"
    }
   ],
   "source": [
    "gene_model"
   ]
  },
  {
   "cell_type": "code",
   "execution_count": null,
   "metadata": {
    "colab": {
     "base_uri": "https://localhost:8080/",
     "height": 295
    },
    "id": "5RW_x2sGvXmC",
    "outputId": "3f729893-367c-4426-f5ba-763312721928"
   },
   "outputs": [
    {
     "data": {
      "text/plain": [
       "GRangesList object of length 2:\n",
       "$txn1\n",
       "GRanges object with 1 range and 0 metadata columns:\n",
       "      seqnames    ranges strand\n",
       "         <Rle> <IRanges>  <Rle>\n",
       "  [1]        A   100-900      *\n",
       "  -------\n",
       "  seqinfo: 1 sequence from an unspecified genome; no seqlengths\n",
       "\n",
       "$txn2\n",
       "GRanges object with 1 range and 0 metadata columns:\n",
       "      seqnames    ranges strand\n",
       "         <Rle> <IRanges>  <Rle>\n",
       "  [1]        A   200-900      *\n",
       "  -------\n",
       "  seqinfo: 1 sequence from an unspecified genome; no seqlengths\n"
      ]
     },
     "metadata": {},
     "output_type": "display_data"
    }
   ],
   "source": [
    "range(gene_model)"
   ]
  },
  {
   "cell_type": "code",
   "execution_count": null,
   "metadata": {
    "colab": {
     "base_uri": "https://localhost:8080/",
     "height": 295
    },
    "id": "9by1VUIAD2jl",
    "outputId": "a2e58096-940f-432b-e5c1-d883e0194514"
   },
   "outputs": [
    {
     "data": {
      "text/plain": [
       "GRangesList object of length 2:\n",
       "$txn1\n",
       "GRanges object with 1 range and 0 metadata columns:\n",
       "      seqnames    ranges strand\n",
       "         <Rle> <IRanges>  <Rle>\n",
       "  [1]        A   501-699      *\n",
       "  -------\n",
       "  seqinfo: 1 sequence from an unspecified genome; no seqlengths\n",
       "\n",
       "$txn2\n",
       "GRanges object with 1 range and 0 metadata columns:\n",
       "      seqnames    ranges strand\n",
       "         <Rle> <IRanges>  <Rle>\n",
       "  [1]        A   501-699      *\n",
       "  -------\n",
       "  seqinfo: 1 sequence from an unspecified genome; no seqlengths\n"
      ]
     },
     "metadata": {},
     "output_type": "display_data"
    }
   ],
   "source": [
    "setdiff(range(gene_model), gene_model)"
   ]
  },
  {
   "cell_type": "markdown",
   "metadata": {
    "id": "emjC0ckgIiMP"
   },
   "source": [
    "SummarizedExperiment"
   ]
  },
  {
   "cell_type": "code",
   "execution_count": null,
   "metadata": {
    "colab": {
     "base_uri": "https://localhost:8080/"
    },
    "id": "UWh2Eic8Ij4_",
    "outputId": "c68703b8-c71e-4171-91ad-8643f7a376a8"
   },
   "outputs": [
    {
     "name": "stderr",
     "output_type": "stream",
     "text": [
      "'getOption(\"repos\")' replaces Bioconductor standard repositories, see\n",
      "'?repositories' for details\n",
      "\n",
      "replacement repositories:\n",
      "    CRAN: https://cran.rstudio.com\n",
      "\n",
      "\n",
      "Bioconductor version 3.13 (BiocManager 1.30.16), R 4.1.1 (2021-08-10)\n",
      "\n",
      "Installing package(s) 'SummarizedExperiment'\n",
      "\n",
      "also installing the dependencies ‘matrixStats’, ‘MatrixGenerics’, ‘Biobase’, ‘DelayedArray’\n",
      "\n",
      "\n",
      "Old packages: 'cpp11', 'data.table', 'desc', 'diffobj', 'digest', 'hms',\n",
      "  'knitr', 'lifecycle', 'lubridate', 'mime', 'openssl', 'pillar', 'pkgload',\n",
      "  'rcmdcheck', 'readr', 'remotes', 'rlang', 'rvest', 'stringi', 'systemfonts',\n",
      "  'testthat', 'tibble', 'tidyr', 'tinytex', 'usethis', 'xfun', 'mgcv', 'nlme'\n",
      "\n",
      "Loading required package: MatrixGenerics\n",
      "\n",
      "Loading required package: matrixStats\n",
      "\n",
      "\n",
      "Attaching package: ‘MatrixGenerics’\n",
      "\n",
      "\n",
      "The following objects are masked from ‘package:matrixStats’:\n",
      "\n",
      "    colAlls, colAnyNAs, colAnys, colAvgsPerRowSet, colCollapse,\n",
      "    colCounts, colCummaxs, colCummins, colCumprods, colCumsums,\n",
      "    colDiffs, colIQRDiffs, colIQRs, colLogSumExps, colMadDiffs,\n",
      "    colMads, colMaxs, colMeans2, colMedians, colMins, colOrderStats,\n",
      "    colProds, colQuantiles, colRanges, colRanks, colSdDiffs, colSds,\n",
      "    colSums2, colTabulates, colVarDiffs, colVars, colWeightedMads,\n",
      "    colWeightedMeans, colWeightedMedians, colWeightedSds,\n",
      "    colWeightedVars, rowAlls, rowAnyNAs, rowAnys, rowAvgsPerColSet,\n",
      "    rowCollapse, rowCounts, rowCummaxs, rowCummins, rowCumprods,\n",
      "    rowCumsums, rowDiffs, rowIQRDiffs, rowIQRs, rowLogSumExps,\n",
      "    rowMadDiffs, rowMads, rowMaxs, rowMeans2, rowMedians, rowMins,\n",
      "    rowOrderStats, rowProds, rowQuantiles, rowRanges, rowRanks,\n",
      "    rowSdDiffs, rowSds, rowSums2, rowTabulates, rowVarDiffs, rowVars,\n",
      "    rowWeightedMads, rowWeightedMeans, rowWeightedMedians,\n",
      "    rowWeightedSds, rowWeightedVars\n",
      "\n",
      "\n",
      "Loading required package: Biobase\n",
      "\n",
      "Welcome to Bioconductor\n",
      "\n",
      "    Vignettes contain introductory material; view with\n",
      "    'browseVignettes()'. To cite Bioconductor, see\n",
      "    'citation(\"Biobase\")', and for packages 'citation(\"pkgname\")'.\n",
      "\n",
      "\n",
      "\n",
      "Attaching package: ‘Biobase’\n",
      "\n",
      "\n",
      "The following object is masked from ‘package:MatrixGenerics’:\n",
      "\n",
      "    rowMedians\n",
      "\n",
      "\n",
      "The following objects are masked from ‘package:matrixStats’:\n",
      "\n",
      "    anyMissing, rowMedians\n",
      "\n",
      "\n"
     ]
    }
   ],
   "source": [
    "BiocManager::install(\"SummarizedExperiment\")\n",
    "library(SummarizedExperiment)"
   ]
  },
  {
   "cell_type": "code",
   "execution_count": null,
   "metadata": {
    "id": "rJGjrc-YImle"
   },
   "outputs": [],
   "source": [
    "nrows <- 200\n",
    "ncols <- 6\n",
    "counts <- matrix(runif(nrows * ncols, 1, 1e4), nrows)\n",
    "rowRanges <- GRanges(rep(c(\"chr1\", \"chr2\"), c(50, 150)),\n",
    "                     IRanges(floor(runif(200, 1e5, 1e6)), width=100),\n",
    "                     strand=sample(c(\"+\", \"-\"), 200, TRUE),\n",
    "                     feature_id=sprintf(\"ID%03d\", 1:200))\n",
    "colData <- DataFrame(Treatment=rep(c(\"ChIP\", \"Input\"), 3),\n",
    "                     row.names=LETTERS[1:6])\n",
    "\n",
    "exp <- SummarizedExperiment(assays=list(counts=counts),\n",
    "                     rowRanges=rowRanges, colData=colData)"
   ]
  },
  {
   "cell_type": "code",
   "execution_count": null,
   "metadata": {
    "colab": {
     "base_uri": "https://localhost:8080/",
     "height": 156
    },
    "id": "KgzmUeMtW5sf",
    "outputId": "c55828b8-946e-4e77-85b0-1705c231dc93"
   },
   "outputs": [
    {
     "data": {
      "text/plain": [
       "class: RangedSummarizedExperiment \n",
       "dim: 200 6 \n",
       "metadata(0):\n",
       "assays(1): counts\n",
       "rownames: NULL\n",
       "rowData names(1): feature_id\n",
       "colnames(6): A B ... E F\n",
       "colData names(1): Treatment"
      ]
     },
     "metadata": {},
     "output_type": "display_data"
    }
   ],
   "source": [
    "exp"
   ]
  },
  {
   "cell_type": "code",
   "execution_count": null,
   "metadata": {
    "colab": {
     "base_uri": "https://localhost:8080/",
     "height": 1000
    },
    "id": "8LstkPKaW61r",
    "outputId": "e2bb8c7f-2d18-49df-f50e-13fb41a610e4"
   },
   "outputs": [
    {
     "data": {
      "text/html": [
       "<table class=\"dataframe\">\n",
       "<caption>A matrix: 200 × 6 of type dbl</caption>\n",
       "<tbody>\n",
       "\t<tr><td>4329.4803</td><td>1331.4388</td><td>8964.89824</td><td>3155.8141</td><td>5025.4674</td><td>1907.05943</td></tr>\n",
       "\t<tr><td>2116.8740</td><td>7127.8299</td><td>3625.95414</td><td>8280.1976</td><td>5443.4406</td><td>3971.21773</td></tr>\n",
       "\t<tr><td>7381.3655</td><td>3991.4666</td><td>4147.08105</td><td>5008.9632</td><td> 133.7086</td><td>4466.84851</td></tr>\n",
       "\t<tr><td>9343.4349</td><td>8619.6998</td><td>3103.86696</td><td>1173.3504</td><td>1981.0958</td><td>  70.95307</td></tr>\n",
       "\t<tr><td>3243.5818</td><td>8955.2656</td><td>8327.08625</td><td>5696.6092</td><td>7556.7453</td><td>1404.04916</td></tr>\n",
       "\t<tr><td>9445.6258</td><td>6772.2935</td><td>8012.61548</td><td>5056.0403</td><td>9924.6365</td><td>5920.12913</td></tr>\n",
       "\t<tr><td>1638.2602</td><td>2692.4430</td><td>4408.13738</td><td>7198.3670</td><td>4431.0702</td><td>9875.31006</td></tr>\n",
       "\t<tr><td>7423.4750</td><td>9098.6102</td><td>4372.67810</td><td>2193.9187</td><td>2623.2761</td><td>4692.86853</td></tr>\n",
       "\t<tr><td>8626.4884</td><td>6252.0107</td><td>7049.32543</td><td> 301.8043</td><td>6911.1154</td><td>4750.66394</td></tr>\n",
       "\t<tr><td>9057.2926</td><td>8847.2366</td><td>4771.32383</td><td>7745.4704</td><td>4281.9962</td><td>3711.36755</td></tr>\n",
       "\t<tr><td>6947.4525</td><td>3392.0416</td><td>9608.28353</td><td>3091.3220</td><td>9781.3111</td><td>5648.88650</td></tr>\n",
       "\t<tr><td>8694.3540</td><td>8992.6149</td><td>2068.13772</td><td>5820.0797</td><td>8669.7776</td><td>6621.38812</td></tr>\n",
       "\t<tr><td>6500.9532</td><td> 112.3229</td><td>5099.70032</td><td>6582.6391</td><td>5998.8816</td><td>4345.27226</td></tr>\n",
       "\t<tr><td>9515.0729</td><td>1312.0245</td><td> 648.32448</td><td>9635.5593</td><td>2601.9564</td><td>8238.34858</td></tr>\n",
       "\t<tr><td>6527.9690</td><td>5589.0822</td><td>5186.67033</td><td>5174.7481</td><td>4587.1704</td><td>4990.30078</td></tr>\n",
       "\t<tr><td>1332.0660</td><td>9507.7340</td><td>4789.60860</td><td>6795.4773</td><td>9908.0175</td><td>6763.63519</td></tr>\n",
       "\t<tr><td>5350.4066</td><td>3492.2314</td><td>8580.77709</td><td> 353.2355</td><td>3436.0458</td><td>6876.08801</td></tr>\n",
       "\t<tr><td>7991.9974</td><td>8117.2551</td><td>  44.73082</td><td>3535.3559</td><td>4970.4969</td><td>7985.61305</td></tr>\n",
       "\t<tr><td> 363.3962</td><td>9230.7249</td><td>9221.79573</td><td>  47.9018</td><td>2102.8484</td><td>4494.55595</td></tr>\n",
       "\t<tr><td>6507.9376</td><td>8078.5796</td><td>6344.40887</td><td>3507.8381</td><td>5603.7180</td><td>9812.92765</td></tr>\n",
       "\t<tr><td>9038.8460</td><td>4579.5876</td><td>6665.80828</td><td>8090.0072</td><td>3480.4116</td><td>2105.32127</td></tr>\n",
       "\t<tr><td>8046.5929</td><td>4499.6972</td><td>5867.70376</td><td>1930.3877</td><td>4421.2098</td><td>5721.99366</td></tr>\n",
       "\t<tr><td>7816.2354</td><td>3912.5307</td><td>6284.28722</td><td>4996.6486</td><td>6345.0327</td><td>7198.96241</td></tr>\n",
       "\t<tr><td>9814.9236</td><td>2918.3938</td><td>9302.87953</td><td> 271.2703</td><td>4646.6888</td><td> 567.12138</td></tr>\n",
       "\t<tr><td>9178.7829</td><td>2735.9859</td><td>1224.82576</td><td> 121.5305</td><td>6161.7625</td><td>2817.66456</td></tr>\n",
       "\t<tr><td>6706.3023</td><td>7583.0881</td><td>5144.01250</td><td>9977.0431</td><td>2205.6146</td><td>3872.61527</td></tr>\n",
       "\t<tr><td>4576.5642</td><td>9490.5281</td><td>5532.55489</td><td>4225.4158</td><td>5202.5349</td><td>1160.27437</td></tr>\n",
       "\t<tr><td>9993.0356</td><td>4758.5722</td><td>8171.79094</td><td>5786.2877</td><td>2562.9952</td><td>1517.73631</td></tr>\n",
       "\t<tr><td> 657.6551</td><td>6991.4022</td><td>8225.29090</td><td> 103.6375</td><td>3294.8311</td><td> 719.84237</td></tr>\n",
       "\t<tr><td>8858.2784</td><td> 283.4970</td><td> 675.36957</td><td> 472.3969</td><td>7194.8619</td><td>5475.52483</td></tr>\n",
       "\t<tr><td>⋮</td><td>⋮</td><td>⋮</td><td>⋮</td><td>⋮</td><td>⋮</td></tr>\n",
       "\t<tr><td>1477.64203</td><td>5115.8020</td><td>9069.2792</td><td>7542.08616</td><td>3679.2392</td><td> 126.5165</td></tr>\n",
       "\t<tr><td>5516.20352</td><td>1624.6628</td><td>8939.4112</td><td>2064.79694</td><td>8123.5727</td><td>2677.6293</td></tr>\n",
       "\t<tr><td> 343.49803</td><td>7827.7180</td><td>4963.7585</td><td>2464.28942</td><td>4805.8973</td><td>8588.7743</td></tr>\n",
       "\t<tr><td>7983.38881</td><td> 846.7698</td><td>7863.2116</td><td>5994.84807</td><td>9351.4084</td><td>7200.2487</td></tr>\n",
       "\t<tr><td>6777.21904</td><td>9365.6307</td><td>9917.6616</td><td>5902.77878</td><td>7226.3045</td><td>2641.4598</td></tr>\n",
       "\t<tr><td>5157.90989</td><td>6771.9438</td><td>3418.3185</td><td> 248.67762</td><td>4115.7920</td><td>8015.7191</td></tr>\n",
       "\t<tr><td>6125.23976</td><td>1850.3450</td><td> 145.8332</td><td>6056.76223</td><td>7920.7178</td><td>3008.7894</td></tr>\n",
       "\t<tr><td>5989.89238</td><td>7888.0186</td><td>3206.9339</td><td>7490.15405</td><td>6711.1895</td><td>4423.7998</td></tr>\n",
       "\t<tr><td>5403.01611</td><td>6545.2327</td><td>5804.4275</td><td>5985.33326</td><td>5847.4115</td><td>7884.4276</td></tr>\n",
       "\t<tr><td>  65.24445</td><td>6710.9689</td><td>4169.2262</td><td>9120.71974</td><td>2878.4984</td><td>9136.9047</td></tr>\n",
       "\t<tr><td>6782.75769</td><td>5022.8618</td><td>3559.4789</td><td>1443.52309</td><td>9644.0230</td><td>3049.4325</td></tr>\n",
       "\t<tr><td> 163.00657</td><td>9589.7288</td><td>2438.9635</td><td> 586.19024</td><td>2853.7922</td><td>4495.9423</td></tr>\n",
       "\t<tr><td>  16.10417</td><td>6026.9304</td><td>9138.8472</td><td>7297.67506</td><td> 628.4336</td><td>1177.2708</td></tr>\n",
       "\t<tr><td>5109.41767</td><td>7061.1968</td><td>1945.9456</td><td>3046.06373</td><td>9688.9267</td><td>3741.4983</td></tr>\n",
       "\t<tr><td>4011.18548</td><td>2487.9953</td><td>6421.0471</td><td>5794.51291</td><td>1691.1551</td><td>7115.3369</td></tr>\n",
       "\t<tr><td>8408.63921</td><td>1463.1550</td><td>8535.0928</td><td>6198.61731</td><td>1681.7174</td><td>6043.6741</td></tr>\n",
       "\t<tr><td>3549.28845</td><td>5001.9196</td><td>9007.0872</td><td>1048.02756</td><td>7856.7953</td><td>1316.7510</td></tr>\n",
       "\t<tr><td>6633.55715</td><td>7438.2219</td><td>1830.1459</td><td>  23.31813</td><td>2704.9737</td><td>8629.1414</td></tr>\n",
       "\t<tr><td>7536.94727</td><td>8878.2053</td><td>6750.8530</td><td>3659.55767</td><td>8105.6699</td><td>8590.4971</td></tr>\n",
       "\t<tr><td>5315.78572</td><td>2714.5731</td><td>5568.2628</td><td>2931.68547</td><td>8417.7868</td><td>4891.1341</td></tr>\n",
       "\t<tr><td>9298.87003</td><td>7265.2528</td><td>6899.1522</td><td>8145.59775</td><td>2912.4171</td><td>6012.3269</td></tr>\n",
       "\t<tr><td>7061.72087</td><td>9234.1698</td><td>6872.1272</td><td>  28.54815</td><td> 957.5579</td><td>4031.3723</td></tr>\n",
       "\t<tr><td>5129.51992</td><td>  84.4175</td><td>7577.4217</td><td>5625.23381</td><td>6809.7121</td><td>1043.3731</td></tr>\n",
       "\t<tr><td>2761.36564</td><td> 513.3819</td><td>8793.3762</td><td>3929.11373</td><td>8111.9731</td><td>8256.5674</td></tr>\n",
       "\t<tr><td>4541.37919</td><td>8786.6298</td><td>3433.2730</td><td>6924.14658</td><td> 344.7048</td><td>6559.6988</td></tr>\n",
       "\t<tr><td> 524.82981</td><td>8349.8947</td><td> 856.7625</td><td>9195.92454</td><td>5530.6922</td><td>6400.9349</td></tr>\n",
       "\t<tr><td> 422.35664</td><td>5628.2273</td><td>9340.8277</td><td>2162.87624</td><td> 476.4524</td><td>2386.1759</td></tr>\n",
       "\t<tr><td>8690.53301</td><td>1443.9265</td><td>1647.9914</td><td>8041.43477</td><td>5744.7968</td><td>6017.8542</td></tr>\n",
       "\t<tr><td>7398.51626</td><td>9267.6234</td><td>7989.9961</td><td>2099.93345</td><td>5688.7175</td><td>6313.1194</td></tr>\n",
       "\t<tr><td>1616.24140</td><td> 759.4594</td><td>6709.4979</td><td>7397.78240</td><td>2845.5414</td><td>7184.5839</td></tr>\n",
       "</tbody>\n",
       "</table>\n"
      ],
      "text/latex": [
       "A matrix: 200 × 6 of type dbl\n",
       "\\begin{tabular}{llllll}\n",
       "\t 4329.4803 & 1331.4388 & 8964.89824 & 3155.8141 & 5025.4674 & 1907.05943\\\\\n",
       "\t 2116.8740 & 7127.8299 & 3625.95414 & 8280.1976 & 5443.4406 & 3971.21773\\\\\n",
       "\t 7381.3655 & 3991.4666 & 4147.08105 & 5008.9632 &  133.7086 & 4466.84851\\\\\n",
       "\t 9343.4349 & 8619.6998 & 3103.86696 & 1173.3504 & 1981.0958 &   70.95307\\\\\n",
       "\t 3243.5818 & 8955.2656 & 8327.08625 & 5696.6092 & 7556.7453 & 1404.04916\\\\\n",
       "\t 9445.6258 & 6772.2935 & 8012.61548 & 5056.0403 & 9924.6365 & 5920.12913\\\\\n",
       "\t 1638.2602 & 2692.4430 & 4408.13738 & 7198.3670 & 4431.0702 & 9875.31006\\\\\n",
       "\t 7423.4750 & 9098.6102 & 4372.67810 & 2193.9187 & 2623.2761 & 4692.86853\\\\\n",
       "\t 8626.4884 & 6252.0107 & 7049.32543 &  301.8043 & 6911.1154 & 4750.66394\\\\\n",
       "\t 9057.2926 & 8847.2366 & 4771.32383 & 7745.4704 & 4281.9962 & 3711.36755\\\\\n",
       "\t 6947.4525 & 3392.0416 & 9608.28353 & 3091.3220 & 9781.3111 & 5648.88650\\\\\n",
       "\t 8694.3540 & 8992.6149 & 2068.13772 & 5820.0797 & 8669.7776 & 6621.38812\\\\\n",
       "\t 6500.9532 &  112.3229 & 5099.70032 & 6582.6391 & 5998.8816 & 4345.27226\\\\\n",
       "\t 9515.0729 & 1312.0245 &  648.32448 & 9635.5593 & 2601.9564 & 8238.34858\\\\\n",
       "\t 6527.9690 & 5589.0822 & 5186.67033 & 5174.7481 & 4587.1704 & 4990.30078\\\\\n",
       "\t 1332.0660 & 9507.7340 & 4789.60860 & 6795.4773 & 9908.0175 & 6763.63519\\\\\n",
       "\t 5350.4066 & 3492.2314 & 8580.77709 &  353.2355 & 3436.0458 & 6876.08801\\\\\n",
       "\t 7991.9974 & 8117.2551 &   44.73082 & 3535.3559 & 4970.4969 & 7985.61305\\\\\n",
       "\t  363.3962 & 9230.7249 & 9221.79573 &   47.9018 & 2102.8484 & 4494.55595\\\\\n",
       "\t 6507.9376 & 8078.5796 & 6344.40887 & 3507.8381 & 5603.7180 & 9812.92765\\\\\n",
       "\t 9038.8460 & 4579.5876 & 6665.80828 & 8090.0072 & 3480.4116 & 2105.32127\\\\\n",
       "\t 8046.5929 & 4499.6972 & 5867.70376 & 1930.3877 & 4421.2098 & 5721.99366\\\\\n",
       "\t 7816.2354 & 3912.5307 & 6284.28722 & 4996.6486 & 6345.0327 & 7198.96241\\\\\n",
       "\t 9814.9236 & 2918.3938 & 9302.87953 &  271.2703 & 4646.6888 &  567.12138\\\\\n",
       "\t 9178.7829 & 2735.9859 & 1224.82576 &  121.5305 & 6161.7625 & 2817.66456\\\\\n",
       "\t 6706.3023 & 7583.0881 & 5144.01250 & 9977.0431 & 2205.6146 & 3872.61527\\\\\n",
       "\t 4576.5642 & 9490.5281 & 5532.55489 & 4225.4158 & 5202.5349 & 1160.27437\\\\\n",
       "\t 9993.0356 & 4758.5722 & 8171.79094 & 5786.2877 & 2562.9952 & 1517.73631\\\\\n",
       "\t  657.6551 & 6991.4022 & 8225.29090 &  103.6375 & 3294.8311 &  719.84237\\\\\n",
       "\t 8858.2784 &  283.4970 &  675.36957 &  472.3969 & 7194.8619 & 5475.52483\\\\\n",
       "\t ⋮ & ⋮ & ⋮ & ⋮ & ⋮ & ⋮\\\\\n",
       "\t 1477.64203 & 5115.8020 & 9069.2792 & 7542.08616 & 3679.2392 &  126.5165\\\\\n",
       "\t 5516.20352 & 1624.6628 & 8939.4112 & 2064.79694 & 8123.5727 & 2677.6293\\\\\n",
       "\t  343.49803 & 7827.7180 & 4963.7585 & 2464.28942 & 4805.8973 & 8588.7743\\\\\n",
       "\t 7983.38881 &  846.7698 & 7863.2116 & 5994.84807 & 9351.4084 & 7200.2487\\\\\n",
       "\t 6777.21904 & 9365.6307 & 9917.6616 & 5902.77878 & 7226.3045 & 2641.4598\\\\\n",
       "\t 5157.90989 & 6771.9438 & 3418.3185 &  248.67762 & 4115.7920 & 8015.7191\\\\\n",
       "\t 6125.23976 & 1850.3450 &  145.8332 & 6056.76223 & 7920.7178 & 3008.7894\\\\\n",
       "\t 5989.89238 & 7888.0186 & 3206.9339 & 7490.15405 & 6711.1895 & 4423.7998\\\\\n",
       "\t 5403.01611 & 6545.2327 & 5804.4275 & 5985.33326 & 5847.4115 & 7884.4276\\\\\n",
       "\t   65.24445 & 6710.9689 & 4169.2262 & 9120.71974 & 2878.4984 & 9136.9047\\\\\n",
       "\t 6782.75769 & 5022.8618 & 3559.4789 & 1443.52309 & 9644.0230 & 3049.4325\\\\\n",
       "\t  163.00657 & 9589.7288 & 2438.9635 &  586.19024 & 2853.7922 & 4495.9423\\\\\n",
       "\t   16.10417 & 6026.9304 & 9138.8472 & 7297.67506 &  628.4336 & 1177.2708\\\\\n",
       "\t 5109.41767 & 7061.1968 & 1945.9456 & 3046.06373 & 9688.9267 & 3741.4983\\\\\n",
       "\t 4011.18548 & 2487.9953 & 6421.0471 & 5794.51291 & 1691.1551 & 7115.3369\\\\\n",
       "\t 8408.63921 & 1463.1550 & 8535.0928 & 6198.61731 & 1681.7174 & 6043.6741\\\\\n",
       "\t 3549.28845 & 5001.9196 & 9007.0872 & 1048.02756 & 7856.7953 & 1316.7510\\\\\n",
       "\t 6633.55715 & 7438.2219 & 1830.1459 &   23.31813 & 2704.9737 & 8629.1414\\\\\n",
       "\t 7536.94727 & 8878.2053 & 6750.8530 & 3659.55767 & 8105.6699 & 8590.4971\\\\\n",
       "\t 5315.78572 & 2714.5731 & 5568.2628 & 2931.68547 & 8417.7868 & 4891.1341\\\\\n",
       "\t 9298.87003 & 7265.2528 & 6899.1522 & 8145.59775 & 2912.4171 & 6012.3269\\\\\n",
       "\t 7061.72087 & 9234.1698 & 6872.1272 &   28.54815 &  957.5579 & 4031.3723\\\\\n",
       "\t 5129.51992 &   84.4175 & 7577.4217 & 5625.23381 & 6809.7121 & 1043.3731\\\\\n",
       "\t 2761.36564 &  513.3819 & 8793.3762 & 3929.11373 & 8111.9731 & 8256.5674\\\\\n",
       "\t 4541.37919 & 8786.6298 & 3433.2730 & 6924.14658 &  344.7048 & 6559.6988\\\\\n",
       "\t  524.82981 & 8349.8947 &  856.7625 & 9195.92454 & 5530.6922 & 6400.9349\\\\\n",
       "\t  422.35664 & 5628.2273 & 9340.8277 & 2162.87624 &  476.4524 & 2386.1759\\\\\n",
       "\t 8690.53301 & 1443.9265 & 1647.9914 & 8041.43477 & 5744.7968 & 6017.8542\\\\\n",
       "\t 7398.51626 & 9267.6234 & 7989.9961 & 2099.93345 & 5688.7175 & 6313.1194\\\\\n",
       "\t 1616.24140 &  759.4594 & 6709.4979 & 7397.78240 & 2845.5414 & 7184.5839\\\\\n",
       "\\end{tabular}\n"
      ],
      "text/markdown": [
       "\n",
       "A matrix: 200 × 6 of type dbl\n",
       "\n",
       "| 4329.4803 | 1331.4388 | 8964.89824 | 3155.8141 | 5025.4674 | 1907.05943 |\n",
       "| 2116.8740 | 7127.8299 | 3625.95414 | 8280.1976 | 5443.4406 | 3971.21773 |\n",
       "| 7381.3655 | 3991.4666 | 4147.08105 | 5008.9632 |  133.7086 | 4466.84851 |\n",
       "| 9343.4349 | 8619.6998 | 3103.86696 | 1173.3504 | 1981.0958 |   70.95307 |\n",
       "| 3243.5818 | 8955.2656 | 8327.08625 | 5696.6092 | 7556.7453 | 1404.04916 |\n",
       "| 9445.6258 | 6772.2935 | 8012.61548 | 5056.0403 | 9924.6365 | 5920.12913 |\n",
       "| 1638.2602 | 2692.4430 | 4408.13738 | 7198.3670 | 4431.0702 | 9875.31006 |\n",
       "| 7423.4750 | 9098.6102 | 4372.67810 | 2193.9187 | 2623.2761 | 4692.86853 |\n",
       "| 8626.4884 | 6252.0107 | 7049.32543 |  301.8043 | 6911.1154 | 4750.66394 |\n",
       "| 9057.2926 | 8847.2366 | 4771.32383 | 7745.4704 | 4281.9962 | 3711.36755 |\n",
       "| 6947.4525 | 3392.0416 | 9608.28353 | 3091.3220 | 9781.3111 | 5648.88650 |\n",
       "| 8694.3540 | 8992.6149 | 2068.13772 | 5820.0797 | 8669.7776 | 6621.38812 |\n",
       "| 6500.9532 |  112.3229 | 5099.70032 | 6582.6391 | 5998.8816 | 4345.27226 |\n",
       "| 9515.0729 | 1312.0245 |  648.32448 | 9635.5593 | 2601.9564 | 8238.34858 |\n",
       "| 6527.9690 | 5589.0822 | 5186.67033 | 5174.7481 | 4587.1704 | 4990.30078 |\n",
       "| 1332.0660 | 9507.7340 | 4789.60860 | 6795.4773 | 9908.0175 | 6763.63519 |\n",
       "| 5350.4066 | 3492.2314 | 8580.77709 |  353.2355 | 3436.0458 | 6876.08801 |\n",
       "| 7991.9974 | 8117.2551 |   44.73082 | 3535.3559 | 4970.4969 | 7985.61305 |\n",
       "|  363.3962 | 9230.7249 | 9221.79573 |   47.9018 | 2102.8484 | 4494.55595 |\n",
       "| 6507.9376 | 8078.5796 | 6344.40887 | 3507.8381 | 5603.7180 | 9812.92765 |\n",
       "| 9038.8460 | 4579.5876 | 6665.80828 | 8090.0072 | 3480.4116 | 2105.32127 |\n",
       "| 8046.5929 | 4499.6972 | 5867.70376 | 1930.3877 | 4421.2098 | 5721.99366 |\n",
       "| 7816.2354 | 3912.5307 | 6284.28722 | 4996.6486 | 6345.0327 | 7198.96241 |\n",
       "| 9814.9236 | 2918.3938 | 9302.87953 |  271.2703 | 4646.6888 |  567.12138 |\n",
       "| 9178.7829 | 2735.9859 | 1224.82576 |  121.5305 | 6161.7625 | 2817.66456 |\n",
       "| 6706.3023 | 7583.0881 | 5144.01250 | 9977.0431 | 2205.6146 | 3872.61527 |\n",
       "| 4576.5642 | 9490.5281 | 5532.55489 | 4225.4158 | 5202.5349 | 1160.27437 |\n",
       "| 9993.0356 | 4758.5722 | 8171.79094 | 5786.2877 | 2562.9952 | 1517.73631 |\n",
       "|  657.6551 | 6991.4022 | 8225.29090 |  103.6375 | 3294.8311 |  719.84237 |\n",
       "| 8858.2784 |  283.4970 |  675.36957 |  472.3969 | 7194.8619 | 5475.52483 |\n",
       "| ⋮ | ⋮ | ⋮ | ⋮ | ⋮ | ⋮ |\n",
       "| 1477.64203 | 5115.8020 | 9069.2792 | 7542.08616 | 3679.2392 |  126.5165 |\n",
       "| 5516.20352 | 1624.6628 | 8939.4112 | 2064.79694 | 8123.5727 | 2677.6293 |\n",
       "|  343.49803 | 7827.7180 | 4963.7585 | 2464.28942 | 4805.8973 | 8588.7743 |\n",
       "| 7983.38881 |  846.7698 | 7863.2116 | 5994.84807 | 9351.4084 | 7200.2487 |\n",
       "| 6777.21904 | 9365.6307 | 9917.6616 | 5902.77878 | 7226.3045 | 2641.4598 |\n",
       "| 5157.90989 | 6771.9438 | 3418.3185 |  248.67762 | 4115.7920 | 8015.7191 |\n",
       "| 6125.23976 | 1850.3450 |  145.8332 | 6056.76223 | 7920.7178 | 3008.7894 |\n",
       "| 5989.89238 | 7888.0186 | 3206.9339 | 7490.15405 | 6711.1895 | 4423.7998 |\n",
       "| 5403.01611 | 6545.2327 | 5804.4275 | 5985.33326 | 5847.4115 | 7884.4276 |\n",
       "|   65.24445 | 6710.9689 | 4169.2262 | 9120.71974 | 2878.4984 | 9136.9047 |\n",
       "| 6782.75769 | 5022.8618 | 3559.4789 | 1443.52309 | 9644.0230 | 3049.4325 |\n",
       "|  163.00657 | 9589.7288 | 2438.9635 |  586.19024 | 2853.7922 | 4495.9423 |\n",
       "|   16.10417 | 6026.9304 | 9138.8472 | 7297.67506 |  628.4336 | 1177.2708 |\n",
       "| 5109.41767 | 7061.1968 | 1945.9456 | 3046.06373 | 9688.9267 | 3741.4983 |\n",
       "| 4011.18548 | 2487.9953 | 6421.0471 | 5794.51291 | 1691.1551 | 7115.3369 |\n",
       "| 8408.63921 | 1463.1550 | 8535.0928 | 6198.61731 | 1681.7174 | 6043.6741 |\n",
       "| 3549.28845 | 5001.9196 | 9007.0872 | 1048.02756 | 7856.7953 | 1316.7510 |\n",
       "| 6633.55715 | 7438.2219 | 1830.1459 |   23.31813 | 2704.9737 | 8629.1414 |\n",
       "| 7536.94727 | 8878.2053 | 6750.8530 | 3659.55767 | 8105.6699 | 8590.4971 |\n",
       "| 5315.78572 | 2714.5731 | 5568.2628 | 2931.68547 | 8417.7868 | 4891.1341 |\n",
       "| 9298.87003 | 7265.2528 | 6899.1522 | 8145.59775 | 2912.4171 | 6012.3269 |\n",
       "| 7061.72087 | 9234.1698 | 6872.1272 |   28.54815 |  957.5579 | 4031.3723 |\n",
       "| 5129.51992 |   84.4175 | 7577.4217 | 5625.23381 | 6809.7121 | 1043.3731 |\n",
       "| 2761.36564 |  513.3819 | 8793.3762 | 3929.11373 | 8111.9731 | 8256.5674 |\n",
       "| 4541.37919 | 8786.6298 | 3433.2730 | 6924.14658 |  344.7048 | 6559.6988 |\n",
       "|  524.82981 | 8349.8947 |  856.7625 | 9195.92454 | 5530.6922 | 6400.9349 |\n",
       "|  422.35664 | 5628.2273 | 9340.8277 | 2162.87624 |  476.4524 | 2386.1759 |\n",
       "| 8690.53301 | 1443.9265 | 1647.9914 | 8041.43477 | 5744.7968 | 6017.8542 |\n",
       "| 7398.51626 | 9267.6234 | 7989.9961 | 2099.93345 | 5688.7175 | 6313.1194 |\n",
       "| 1616.24140 |  759.4594 | 6709.4979 | 7397.78240 | 2845.5414 | 7184.5839 |\n",
       "\n"
      ],
      "text/plain": [
       "      [,1]       [,2]      [,3]       [,4]       [,5]      [,6]      \n",
       " [1,] 4329.4803  1331.4388 8964.89824 3155.8141  5025.4674 1907.05943\n",
       " [2,] 2116.8740  7127.8299 3625.95414 8280.1976  5443.4406 3971.21773\n",
       " [3,] 7381.3655  3991.4666 4147.08105 5008.9632   133.7086 4466.84851\n",
       " [4,] 9343.4349  8619.6998 3103.86696 1173.3504  1981.0958   70.95307\n",
       " [5,] 3243.5818  8955.2656 8327.08625 5696.6092  7556.7453 1404.04916\n",
       " [6,] 9445.6258  6772.2935 8012.61548 5056.0403  9924.6365 5920.12913\n",
       " [7,] 1638.2602  2692.4430 4408.13738 7198.3670  4431.0702 9875.31006\n",
       " [8,] 7423.4750  9098.6102 4372.67810 2193.9187  2623.2761 4692.86853\n",
       " [9,] 8626.4884  6252.0107 7049.32543  301.8043  6911.1154 4750.66394\n",
       "[10,] 9057.2926  8847.2366 4771.32383 7745.4704  4281.9962 3711.36755\n",
       "[11,] 6947.4525  3392.0416 9608.28353 3091.3220  9781.3111 5648.88650\n",
       "[12,] 8694.3540  8992.6149 2068.13772 5820.0797  8669.7776 6621.38812\n",
       "[13,] 6500.9532   112.3229 5099.70032 6582.6391  5998.8816 4345.27226\n",
       "[14,] 9515.0729  1312.0245  648.32448 9635.5593  2601.9564 8238.34858\n",
       "[15,] 6527.9690  5589.0822 5186.67033 5174.7481  4587.1704 4990.30078\n",
       "[16,] 1332.0660  9507.7340 4789.60860 6795.4773  9908.0175 6763.63519\n",
       "[17,] 5350.4066  3492.2314 8580.77709  353.2355  3436.0458 6876.08801\n",
       "[18,] 7991.9974  8117.2551   44.73082 3535.3559  4970.4969 7985.61305\n",
       "[19,]  363.3962  9230.7249 9221.79573   47.9018  2102.8484 4494.55595\n",
       "[20,] 6507.9376  8078.5796 6344.40887 3507.8381  5603.7180 9812.92765\n",
       "[21,] 9038.8460  4579.5876 6665.80828 8090.0072  3480.4116 2105.32127\n",
       "[22,] 8046.5929  4499.6972 5867.70376 1930.3877  4421.2098 5721.99366\n",
       "[23,] 7816.2354  3912.5307 6284.28722 4996.6486  6345.0327 7198.96241\n",
       "[24,] 9814.9236  2918.3938 9302.87953  271.2703  4646.6888  567.12138\n",
       "[25,] 9178.7829  2735.9859 1224.82576  121.5305  6161.7625 2817.66456\n",
       "[26,] 6706.3023  7583.0881 5144.01250 9977.0431  2205.6146 3872.61527\n",
       "[27,] 4576.5642  9490.5281 5532.55489 4225.4158  5202.5349 1160.27437\n",
       "[28,] 9993.0356  4758.5722 8171.79094 5786.2877  2562.9952 1517.73631\n",
       "[29,]  657.6551  6991.4022 8225.29090  103.6375  3294.8311  719.84237\n",
       "[30,] 8858.2784   283.4970  675.36957  472.3969  7194.8619 5475.52483\n",
       "[31,] ⋮          ⋮         ⋮          ⋮          ⋮         ⋮         \n",
       "[32,] 1477.64203 5115.8020 9069.2792  7542.08616 3679.2392  126.5165 \n",
       "[33,] 5516.20352 1624.6628 8939.4112  2064.79694 8123.5727 2677.6293 \n",
       "[34,]  343.49803 7827.7180 4963.7585  2464.28942 4805.8973 8588.7743 \n",
       "[35,] 7983.38881  846.7698 7863.2116  5994.84807 9351.4084 7200.2487 \n",
       "[36,] 6777.21904 9365.6307 9917.6616  5902.77878 7226.3045 2641.4598 \n",
       "[37,] 5157.90989 6771.9438 3418.3185   248.67762 4115.7920 8015.7191 \n",
       "[38,] 6125.23976 1850.3450  145.8332  6056.76223 7920.7178 3008.7894 \n",
       "[39,] 5989.89238 7888.0186 3206.9339  7490.15405 6711.1895 4423.7998 \n",
       "[40,] 5403.01611 6545.2327 5804.4275  5985.33326 5847.4115 7884.4276 \n",
       "[41,]   65.24445 6710.9689 4169.2262  9120.71974 2878.4984 9136.9047 \n",
       "[42,] 6782.75769 5022.8618 3559.4789  1443.52309 9644.0230 3049.4325 \n",
       "[43,]  163.00657 9589.7288 2438.9635   586.19024 2853.7922 4495.9423 \n",
       "[44,]   16.10417 6026.9304 9138.8472  7297.67506  628.4336 1177.2708 \n",
       "[45,] 5109.41767 7061.1968 1945.9456  3046.06373 9688.9267 3741.4983 \n",
       "[46,] 4011.18548 2487.9953 6421.0471  5794.51291 1691.1551 7115.3369 \n",
       "[47,] 8408.63921 1463.1550 8535.0928  6198.61731 1681.7174 6043.6741 \n",
       "[48,] 3549.28845 5001.9196 9007.0872  1048.02756 7856.7953 1316.7510 \n",
       "[49,] 6633.55715 7438.2219 1830.1459    23.31813 2704.9737 8629.1414 \n",
       "[50,] 7536.94727 8878.2053 6750.8530  3659.55767 8105.6699 8590.4971 \n",
       "[51,] 5315.78572 2714.5731 5568.2628  2931.68547 8417.7868 4891.1341 \n",
       "[52,] 9298.87003 7265.2528 6899.1522  8145.59775 2912.4171 6012.3269 \n",
       "[53,] 7061.72087 9234.1698 6872.1272    28.54815  957.5579 4031.3723 \n",
       "[54,] 5129.51992   84.4175 7577.4217  5625.23381 6809.7121 1043.3731 \n",
       "[55,] 2761.36564  513.3819 8793.3762  3929.11373 8111.9731 8256.5674 \n",
       "[56,] 4541.37919 8786.6298 3433.2730  6924.14658  344.7048 6559.6988 \n",
       "[57,]  524.82981 8349.8947  856.7625  9195.92454 5530.6922 6400.9349 \n",
       "[58,]  422.35664 5628.2273 9340.8277  2162.87624  476.4524 2386.1759 \n",
       "[59,] 8690.53301 1443.9265 1647.9914  8041.43477 5744.7968 6017.8542 \n",
       "[60,] 7398.51626 9267.6234 7989.9961  2099.93345 5688.7175 6313.1194 \n",
       "[61,] 1616.24140  759.4594 6709.4979  7397.78240 2845.5414 7184.5839 "
      ]
     },
     "metadata": {},
     "output_type": "display_data"
    }
   ],
   "source": [
    "exp@assays@data$counts"
   ]
  },
  {
   "cell_type": "code",
   "execution_count": null,
   "metadata": {
    "colab": {
     "base_uri": "https://localhost:8080/",
     "height": 295
    },
    "id": "mbSBFTsfXzaW",
    "outputId": "9cf4d081-3047-44c9-c322-e6e2afe55de7"
   },
   "outputs": [
    {
     "data": {
      "text/plain": [
       "GRanges object with 200 ranges and 1 metadata column:\n",
       "        seqnames        ranges strand |  feature_id\n",
       "           <Rle>     <IRanges>  <Rle> | <character>\n",
       "    [1]     chr1 343671-343770      + |       ID001\n",
       "    [2]     chr1 565766-565865      + |       ID002\n",
       "    [3]     chr1 684039-684138      - |       ID003\n",
       "    [4]     chr1 827187-827286      - |       ID004\n",
       "    [5]     chr1 969361-969460      - |       ID005\n",
       "    ...      ...           ...    ... .         ...\n",
       "  [196]     chr2 971705-971804      + |       ID196\n",
       "  [197]     chr2 167084-167183      + |       ID197\n",
       "  [198]     chr2 407703-407802      - |       ID198\n",
       "  [199]     chr2 104090-104189      - |       ID199\n",
       "  [200]     chr2 882011-882110      + |       ID200\n",
       "  -------\n",
       "  seqinfo: 2 sequences from an unspecified genome; no seqlengths"
      ]
     },
     "metadata": {},
     "output_type": "display_data"
    }
   ],
   "source": [
    "exp@rowRanges"
   ]
  },
  {
   "cell_type": "code",
   "execution_count": null,
   "metadata": {
    "id": "JAeqjXm3XI7E"
   },
   "outputs": [],
   "source": []
  },
  {
   "cell_type": "markdown",
   "metadata": {
    "id": "X7R-fMAaiYL8"
   },
   "source": [
    "# 2. Acute lymphocytic leukemia (ALL) data analaysis\n",
    "Contrast in gene expression between ALL patients with two specific forms of chromosomal translocation\n",
    "The first group consists of patients with a translocation between chromosomes 4 and 11 (labeled ALL1/AF4).\n",
    "The second group consists of patients with a translocation between chromosomes 9 and 22 (labeled BCR/ABL)"
   ]
  },
  {
   "cell_type": "markdown",
   "metadata": {
    "id": "oKS2QAiCijiM"
   },
   "source": [
    "## 0) Install & Library"
   ]
  },
  {
   "cell_type": "code",
   "execution_count": null,
   "metadata": {
    "colab": {
     "base_uri": "https://localhost:8080/"
    },
    "id": "XJH6jPAUNepF",
    "outputId": "f94637ad-470e-4716-8ac8-c8fab730a786"
   },
   "outputs": [
    {
     "name": "stderr",
     "output_type": "stream",
     "text": [
      "'getOption(\"repos\")' replaces Bioconductor standard repositories, see\n",
      "'?repositories' for details\n",
      "\n",
      "replacement repositories:\n",
      "    CRAN: https://cran.rstudio.com\n",
      "\n",
      "\n",
      "Bioconductor version 3.13 (BiocManager 1.30.16), R 4.1.1 (2021-08-10)\n",
      "\n",
      "Installing package(s) 'ALL'\n",
      "\n",
      "Old packages: 'cpp11', 'data.table', 'desc', 'diffobj', 'digest', 'hms',\n",
      "  'knitr', 'lifecycle', 'lubridate', 'mime', 'openssl', 'pillar', 'pkgload',\n",
      "  'rcmdcheck', 'readr', 'remotes', 'rlang', 'rvest', 'stringi', 'systemfonts',\n",
      "  'testthat', 'tibble', 'tidyr', 'tinytex', 'usethis', 'xfun', 'mgcv', 'nlme'\n",
      "\n",
      "'getOption(\"repos\")' replaces Bioconductor standard repositories, see\n",
      "'?repositories' for details\n",
      "\n",
      "replacement repositories:\n",
      "    CRAN: https://cran.rstudio.com\n",
      "\n",
      "\n",
      "Bioconductor version 3.13 (BiocManager 1.30.16), R 4.1.1 (2021-08-10)\n",
      "\n",
      "Installing package(s) 'limma'\n",
      "\n",
      "Old packages: 'cpp11', 'data.table', 'desc', 'diffobj', 'digest', 'hms',\n",
      "  'knitr', 'lifecycle', 'lubridate', 'mime', 'openssl', 'pillar', 'pkgload',\n",
      "  'rcmdcheck', 'readr', 'remotes', 'rlang', 'rvest', 'stringi', 'systemfonts',\n",
      "  'testthat', 'tibble', 'tidyr', 'tinytex', 'usethis', 'xfun', 'mgcv', 'nlme'\n",
      "\n",
      "\n",
      "Attaching package: ‘limma’\n",
      "\n",
      "\n",
      "The following object is masked from ‘package:BiocGenerics’:\n",
      "\n",
      "    plotMA\n",
      "\n",
      "\n",
      "'getOption(\"repos\")' replaces Bioconductor standard repositories, see\n",
      "'?repositories' for details\n",
      "\n",
      "replacement repositories:\n",
      "    CRAN: https://cran.rstudio.com\n",
      "\n",
      "\n",
      "Bioconductor version 3.13 (BiocManager 1.30.16), R 4.1.1 (2021-08-10)\n",
      "\n",
      "Installing package(s) 'hgu95av2.db'\n",
      "\n",
      "also installing the dependencies ‘plogr’, ‘png’, ‘Biostrings’, ‘RSQLite’, ‘KEGGREST’, ‘AnnotationDbi’, ‘org.Hs.eg.db’\n",
      "\n",
      "\n",
      "Old packages: 'cpp11', 'data.table', 'desc', 'diffobj', 'digest', 'hms',\n",
      "  'knitr', 'lifecycle', 'lubridate', 'mime', 'openssl', 'pillar', 'pkgload',\n",
      "  'rcmdcheck', 'readr', 'remotes', 'rlang', 'rvest', 'stringi', 'systemfonts',\n",
      "  'testthat', 'tibble', 'tidyr', 'tinytex', 'usethis', 'xfun', 'mgcv', 'nlme'\n",
      "\n",
      "Loading required package: AnnotationDbi\n",
      "\n",
      "Loading required package: org.Hs.eg.db\n",
      "\n",
      "\n",
      "\n",
      "\n",
      "\n",
      "'getOption(\"repos\")' replaces Bioconductor standard repositories, see\n",
      "'?repositories' for details\n",
      "\n",
      "replacement repositories:\n",
      "    CRAN: https://cran.rstudio.com\n",
      "\n",
      "\n",
      "Bioconductor version 3.13 (BiocManager 1.30.16), R 4.1.1 (2021-08-10)\n",
      "\n",
      "Installing package(s) 'GOstats'\n",
      "\n",
      "also installing the dependencies ‘GSEABase’, ‘genefilter’, ‘BH’, ‘XML’, ‘xtable’, ‘Category’, ‘graph’, ‘GO.db’, ‘RBGL’, ‘annotate’, ‘AnnotationForge’, ‘Rgraphviz’\n",
      "\n",
      "\n",
      "Old packages: 'cpp11', 'data.table', 'desc', 'diffobj', 'digest', 'hms',\n",
      "  'knitr', 'lifecycle', 'lubridate', 'mime', 'openssl', 'pillar', 'pkgload',\n",
      "  'rcmdcheck', 'readr', 'remotes', 'rlang', 'rvest', 'stringi', 'systemfonts',\n",
      "  'testthat', 'tibble', 'tidyr', 'tinytex', 'usethis', 'xfun', 'mgcv', 'nlme'\n",
      "\n",
      "Loading required package: Category\n",
      "\n",
      "Loading required package: Matrix\n",
      "\n",
      "\n",
      "Attaching package: ‘Matrix’\n",
      "\n",
      "\n",
      "The following object is masked from ‘package:S4Vectors’:\n",
      "\n",
      "    expand\n",
      "\n",
      "\n",
      "Loading required package: graph\n",
      "\n",
      "\n",
      "\n",
      "\n",
      "Attaching package: ‘GOstats’\n",
      "\n",
      "\n",
      "The following object is masked from ‘package:AnnotationDbi’:\n",
      "\n",
      "    makeGOGraph\n",
      "\n",
      "\n"
     ]
    }
   ],
   "source": [
    "BiocManager::install(\"ALL\") # install ALL data pacakage\n",
    "library(ALL)\n",
    "\n",
    "BiocManager::install(\"limma\") # install limma pacakage for analysis of gene expression microarray data\n",
    "library(limma)\n",
    "\n",
    "# install.packages(\"RSQLite\") # install RSQLite for connecting DB\n",
    "\n",
    "BiocManager::install(\"hgu95av2.db\") # DB of human genome\n",
    "library(hgu95av2.db)\n",
    "\n",
    "BiocManager::install(\"GOstats\") # install GOstats for Gene Ontology analysis\n",
    "library(GOstats)"
   ]
  },
  {
   "cell_type": "markdown",
   "metadata": {
    "id": "0cEwzVbGivVh"
   },
   "source": [
    "## 1) Import & Prep data"
   ]
  },
  {
   "cell_type": "code",
   "execution_count": null,
   "metadata": {
    "id": "d1134EPPQxxK"
   },
   "outputs": [],
   "source": [
    "data(ALL) # import ALL data"
   ]
  },
  {
   "cell_type": "code",
   "execution_count": null,
   "metadata": {
    "colab": {
     "base_uri": "https://localhost:8080/"
    },
    "id": "Sg_pqKWajxtC",
    "outputId": "278c8136-c594-411f-8aeb-619fcda4fcbd"
   },
   "outputs": [
    {
     "name": "stdout",
     "output_type": "stream",
     "text": [
      "ExpressionSet (storageMode: lockedEnvironment)\n",
      "assayData: 12625 features, 128 samples \n",
      "  element names: exprs \n",
      "protocolData: none\n",
      "phenoData\n",
      "  sampleNames: 01005 01010 ... LAL4 (128 total)\n",
      "  varLabels: cod diagnosis ... date last seen (21 total)\n",
      "  varMetadata: labelDescription\n",
      "featureData: none\n",
      "experimentData: use 'experimentData(object)'\n",
      "  pubMedIds: 14684422 16243790 \n",
      "Annotation: hgu95av2 \n"
     ]
    }
   ],
   "source": [
    "show(ALL) # total summary - 12625 features, 128 samples"
   ]
  },
  {
   "cell_type": "code",
   "execution_count": null,
   "metadata": {
    "id": "d5oRIMPTj0hk"
   },
   "outputs": [],
   "source": [
    "eset <- ALL[, ALL$mol %in% c(\"BCR/ABL\", \"ALL1/AF4\")] # subset two subtypes"
   ]
  },
  {
   "cell_type": "code",
   "execution_count": null,
   "metadata": {
    "colab": {
     "base_uri": "https://localhost:8080/"
    },
    "id": "S5NhMnG0muD2",
    "outputId": "7d00c20a-5574-4055-e1f9-6af302f408fc"
   },
   "outputs": [
    {
     "name": "stdout",
     "output_type": "stream",
     "text": [
      "ExpressionSet (storageMode: lockedEnvironment)\n",
      "assayData: 12625 features, 47 samples \n",
      "  element names: exprs \n",
      "protocolData: none\n",
      "phenoData\n",
      "  sampleNames: 01005 03002 ... 84004 (47 total)\n",
      "  varLabels: cod diagnosis ... date last seen (21 total)\n",
      "  varMetadata: labelDescription\n",
      "featureData: none\n",
      "experimentData: use 'experimentData(object)'\n",
      "  pubMedIds: 14684422 16243790 \n",
      "Annotation: hgu95av2 \n"
     ]
    }
   ],
   "source": [
    "show(eset) # 47 selected samples: 10 ALL1/AF4, 37 BCR/ABL"
   ]
  },
  {
   "cell_type": "markdown",
   "metadata": {
    "id": "tTtWu7ONix6H"
   },
   "source": [
    "## 2) Differential Expression"
   ]
  },
  {
   "cell_type": "markdown",
   "metadata": {
    "id": "VK7RcFPmj8ZB"
   },
   "source": [
    "Fit linear model & get significance using empirical Bayesian model"
   ]
  },
  {
   "cell_type": "code",
   "execution_count": null,
   "metadata": {
    "colab": {
     "base_uri": "https://localhost:8080/",
     "height": 411
    },
    "id": "vYjyOzPbiy48",
    "outputId": "eb84e0fe-7d11-49b5-809e-614980564a63"
   },
   "outputs": [
    {
     "data": {
      "text/html": [
       "<table class=\"dataframe\">\n",
       "<caption>A data.frame: 10 × 6</caption>\n",
       "<thead>\n",
       "\t<tr><th></th><th scope=col>logFC</th><th scope=col>AveExpr</th><th scope=col>t</th><th scope=col>P.Value</th><th scope=col>adj.P.Val</th><th scope=col>B</th></tr>\n",
       "\t<tr><th></th><th scope=col>&lt;dbl&gt;</th><th scope=col>&lt;dbl&gt;</th><th scope=col>&lt;dbl&gt;</th><th scope=col>&lt;dbl&gt;</th><th scope=col>&lt;dbl&gt;</th><th scope=col>&lt;dbl&gt;</th></tr>\n",
       "</thead>\n",
       "<tbody>\n",
       "\t<tr><th scope=row>1914_at</th><td>-3.076231</td><td>4.611284</td><td>-27.49860</td><td>4.663431e-31</td><td>5.887581e-27</td><td>56.32653</td></tr>\n",
       "\t<tr><th scope=row>37809_at</th><td>-3.971906</td><td>4.864721</td><td>-19.75478</td><td>1.033405e-24</td><td>5.896502e-21</td><td>44.23832</td></tr>\n",
       "\t<tr><th scope=row>36873_at</th><td>-3.391662</td><td>4.284529</td><td>-19.61497</td><td>1.401149e-24</td><td>5.896502e-21</td><td>43.97298</td></tr>\n",
       "\t<tr><th scope=row>40763_at</th><td>-3.086992</td><td>3.474092</td><td>-17.00739</td><td>5.695120e-22</td><td>1.797522e-18</td><td>38.64615</td></tr>\n",
       "\t<tr><th scope=row>34210_at</th><td> 3.618194</td><td>8.438482</td><td> 15.45655</td><td>2.809128e-20</td><td>7.093049e-17</td><td>35.10692</td></tr>\n",
       "\t<tr><th scope=row>41448_at</th><td>-2.500488</td><td>3.733012</td><td>-14.83924</td><td>1.428253e-19</td><td>3.005283e-16</td><td>33.61391</td></tr>\n",
       "\t<tr><th scope=row>33358_at</th><td>-2.269730</td><td>5.191015</td><td>-12.96398</td><td>2.638314e-17</td><td>4.758388e-14</td><td>28.76471</td></tr>\n",
       "\t<tr><th scope=row>37978_at</th><td>-1.036051</td><td>6.937965</td><td>-10.48777</td><td>5.126800e-14</td><td>8.090730e-11</td><td>21.60216</td></tr>\n",
       "\t<tr><th scope=row>40480_s_at</th><td> 1.844998</td><td>7.826900</td><td> 10.38214</td><td>7.206177e-14</td><td>1.010866e-10</td><td>21.27732</td></tr>\n",
       "\t<tr><th scope=row>1307_at</th><td> 1.583904</td><td>4.638885</td><td> 10.25731</td><td>1.079482e-13</td><td>1.362846e-10</td><td>20.89145</td></tr>\n",
       "</tbody>\n",
       "</table>\n"
      ],
      "text/latex": [
       "A data.frame: 10 × 6\n",
       "\\begin{tabular}{r|llllll}\n",
       "  & logFC & AveExpr & t & P.Value & adj.P.Val & B\\\\\n",
       "  & <dbl> & <dbl> & <dbl> & <dbl> & <dbl> & <dbl>\\\\\n",
       "\\hline\n",
       "\t1914\\_at & -3.076231 & 4.611284 & -27.49860 & 4.663431e-31 & 5.887581e-27 & 56.32653\\\\\n",
       "\t37809\\_at & -3.971906 & 4.864721 & -19.75478 & 1.033405e-24 & 5.896502e-21 & 44.23832\\\\\n",
       "\t36873\\_at & -3.391662 & 4.284529 & -19.61497 & 1.401149e-24 & 5.896502e-21 & 43.97298\\\\\n",
       "\t40763\\_at & -3.086992 & 3.474092 & -17.00739 & 5.695120e-22 & 1.797522e-18 & 38.64615\\\\\n",
       "\t34210\\_at &  3.618194 & 8.438482 &  15.45655 & 2.809128e-20 & 7.093049e-17 & 35.10692\\\\\n",
       "\t41448\\_at & -2.500488 & 3.733012 & -14.83924 & 1.428253e-19 & 3.005283e-16 & 33.61391\\\\\n",
       "\t33358\\_at & -2.269730 & 5.191015 & -12.96398 & 2.638314e-17 & 4.758388e-14 & 28.76471\\\\\n",
       "\t37978\\_at & -1.036051 & 6.937965 & -10.48777 & 5.126800e-14 & 8.090730e-11 & 21.60216\\\\\n",
       "\t40480\\_s\\_at &  1.844998 & 7.826900 &  10.38214 & 7.206177e-14 & 1.010866e-10 & 21.27732\\\\\n",
       "\t1307\\_at &  1.583904 & 4.638885 &  10.25731 & 1.079482e-13 & 1.362846e-10 & 20.89145\\\\\n",
       "\\end{tabular}\n"
      ],
      "text/markdown": [
       "\n",
       "A data.frame: 10 × 6\n",
       "\n",
       "| <!--/--> | logFC &lt;dbl&gt; | AveExpr &lt;dbl&gt; | t &lt;dbl&gt; | P.Value &lt;dbl&gt; | adj.P.Val &lt;dbl&gt; | B &lt;dbl&gt; |\n",
       "|---|---|---|---|---|---|---|\n",
       "| 1914_at | -3.076231 | 4.611284 | -27.49860 | 4.663431e-31 | 5.887581e-27 | 56.32653 |\n",
       "| 37809_at | -3.971906 | 4.864721 | -19.75478 | 1.033405e-24 | 5.896502e-21 | 44.23832 |\n",
       "| 36873_at | -3.391662 | 4.284529 | -19.61497 | 1.401149e-24 | 5.896502e-21 | 43.97298 |\n",
       "| 40763_at | -3.086992 | 3.474092 | -17.00739 | 5.695120e-22 | 1.797522e-18 | 38.64615 |\n",
       "| 34210_at |  3.618194 | 8.438482 |  15.45655 | 2.809128e-20 | 7.093049e-17 | 35.10692 |\n",
       "| 41448_at | -2.500488 | 3.733012 | -14.83924 | 1.428253e-19 | 3.005283e-16 | 33.61391 |\n",
       "| 33358_at | -2.269730 | 5.191015 | -12.96398 | 2.638314e-17 | 4.758388e-14 | 28.76471 |\n",
       "| 37978_at | -1.036051 | 6.937965 | -10.48777 | 5.126800e-14 | 8.090730e-11 | 21.60216 |\n",
       "| 40480_s_at |  1.844998 | 7.826900 |  10.38214 | 7.206177e-14 | 1.010866e-10 | 21.27732 |\n",
       "| 1307_at |  1.583904 | 4.638885 |  10.25731 | 1.079482e-13 | 1.362846e-10 | 20.89145 |\n",
       "\n"
      ],
      "text/plain": [
       "           logFC     AveExpr  t         P.Value      adj.P.Val    B       \n",
       "1914_at    -3.076231 4.611284 -27.49860 4.663431e-31 5.887581e-27 56.32653\n",
       "37809_at   -3.971906 4.864721 -19.75478 1.033405e-24 5.896502e-21 44.23832\n",
       "36873_at   -3.391662 4.284529 -19.61497 1.401149e-24 5.896502e-21 43.97298\n",
       "40763_at   -3.086992 3.474092 -17.00739 5.695120e-22 1.797522e-18 38.64615\n",
       "34210_at    3.618194 8.438482  15.45655 2.809128e-20 7.093049e-17 35.10692\n",
       "41448_at   -2.500488 3.733012 -14.83924 1.428253e-19 3.005283e-16 33.61391\n",
       "33358_at   -2.269730 5.191015 -12.96398 2.638314e-17 4.758388e-14 28.76471\n",
       "37978_at   -1.036051 6.937965 -10.48777 5.126800e-14 8.090730e-11 21.60216\n",
       "40480_s_at  1.844998 7.826900  10.38214 7.206177e-14 1.010866e-10 21.27732\n",
       "1307_at     1.583904 4.638885  10.25731 1.079482e-13 1.362846e-10 20.89145"
      ]
     },
     "metadata": {},
     "output_type": "display_data"
    }
   ],
   "source": [
    "f <- factor(as.character(eset$mol)) # factor of subtypes\n",
    "design <- model.matrix(~f) # design matrix (Y = Xβ)\n",
    "fit <- lmFit(eset, design) # simple linear regression\n",
    "fit <- eBayes(fit) # Using output of fitted lm, calculate Empirical Bayes Statistics for Differential Expression\n",
    "topTable(fit, coef = 2) # results: significance of each genes"
   ]
  },
  {
   "cell_type": "code",
   "execution_count": null,
   "metadata": {
    "colab": {
     "base_uri": "https://localhost:8080/",
     "height": 1000
    },
    "id": "oNeByZ5HNjS4",
    "outputId": "ab6f6eb6-4a1d-4ec2-c2de-e4a7587aef18"
   },
   "outputs": [
    {
     "data": {
      "text/html": [
       "<table class=\"dataframe\">\n",
       "<caption>A matrix: 47 × 2 of type dbl</caption>\n",
       "<thead>\n",
       "\t<tr><th></th><th scope=col>(Intercept)</th><th scope=col>fBCR/ABL</th></tr>\n",
       "</thead>\n",
       "<tbody>\n",
       "\t<tr><th scope=row>1</th><td>1</td><td>1</td></tr>\n",
       "\t<tr><th scope=row>2</th><td>1</td><td>1</td></tr>\n",
       "\t<tr><th scope=row>3</th><td>1</td><td>0</td></tr>\n",
       "\t<tr><th scope=row>4</th><td>1</td><td>1</td></tr>\n",
       "\t<tr><th scope=row>5</th><td>1</td><td>1</td></tr>\n",
       "\t<tr><th scope=row>6</th><td>1</td><td>1</td></tr>\n",
       "\t<tr><th scope=row>7</th><td>1</td><td>1</td></tr>\n",
       "\t<tr><th scope=row>8</th><td>1</td><td>1</td></tr>\n",
       "\t<tr><th scope=row>9</th><td>1</td><td>1</td></tr>\n",
       "\t<tr><th scope=row>10</th><td>1</td><td>1</td></tr>\n",
       "\t<tr><th scope=row>11</th><td>1</td><td>1</td></tr>\n",
       "\t<tr><th scope=row>12</th><td>1</td><td>1</td></tr>\n",
       "\t<tr><th scope=row>13</th><td>1</td><td>0</td></tr>\n",
       "\t<tr><th scope=row>14</th><td>1</td><td>1</td></tr>\n",
       "\t<tr><th scope=row>15</th><td>1</td><td>0</td></tr>\n",
       "\t<tr><th scope=row>16</th><td>1</td><td>0</td></tr>\n",
       "\t<tr><th scope=row>17</th><td>1</td><td>1</td></tr>\n",
       "\t<tr><th scope=row>18</th><td>1</td><td>1</td></tr>\n",
       "\t<tr><th scope=row>19</th><td>1</td><td>1</td></tr>\n",
       "\t<tr><th scope=row>20</th><td>1</td><td>1</td></tr>\n",
       "\t<tr><th scope=row>21</th><td>1</td><td>0</td></tr>\n",
       "\t<tr><th scope=row>22</th><td>1</td><td>1</td></tr>\n",
       "\t<tr><th scope=row>23</th><td>1</td><td>1</td></tr>\n",
       "\t<tr><th scope=row>24</th><td>1</td><td>1</td></tr>\n",
       "\t<tr><th scope=row>25</th><td>1</td><td>1</td></tr>\n",
       "\t<tr><th scope=row>26</th><td>1</td><td>1</td></tr>\n",
       "\t<tr><th scope=row>27</th><td>1</td><td>0</td></tr>\n",
       "\t<tr><th scope=row>28</th><td>1</td><td>1</td></tr>\n",
       "\t<tr><th scope=row>29</th><td>1</td><td>1</td></tr>\n",
       "\t<tr><th scope=row>30</th><td>1</td><td>1</td></tr>\n",
       "\t<tr><th scope=row>31</th><td>1</td><td>1</td></tr>\n",
       "\t<tr><th scope=row>32</th><td>1</td><td>0</td></tr>\n",
       "\t<tr><th scope=row>33</th><td>1</td><td>0</td></tr>\n",
       "\t<tr><th scope=row>34</th><td>1</td><td>1</td></tr>\n",
       "\t<tr><th scope=row>35</th><td>1</td><td>1</td></tr>\n",
       "\t<tr><th scope=row>36</th><td>1</td><td>0</td></tr>\n",
       "\t<tr><th scope=row>37</th><td>1</td><td>1</td></tr>\n",
       "\t<tr><th scope=row>38</th><td>1</td><td>1</td></tr>\n",
       "\t<tr><th scope=row>39</th><td>1</td><td>1</td></tr>\n",
       "\t<tr><th scope=row>40</th><td>1</td><td>1</td></tr>\n",
       "\t<tr><th scope=row>41</th><td>1</td><td>1</td></tr>\n",
       "\t<tr><th scope=row>42</th><td>1</td><td>1</td></tr>\n",
       "\t<tr><th scope=row>43</th><td>1</td><td>1</td></tr>\n",
       "\t<tr><th scope=row>44</th><td>1</td><td>0</td></tr>\n",
       "\t<tr><th scope=row>45</th><td>1</td><td>1</td></tr>\n",
       "\t<tr><th scope=row>46</th><td>1</td><td>1</td></tr>\n",
       "\t<tr><th scope=row>47</th><td>1</td><td>1</td></tr>\n",
       "</tbody>\n",
       "</table>\n"
      ],
      "text/latex": [
       "A matrix: 47 × 2 of type dbl\n",
       "\\begin{tabular}{r|ll}\n",
       "  & (Intercept) & fBCR/ABL\\\\\n",
       "\\hline\n",
       "\t1 & 1 & 1\\\\\n",
       "\t2 & 1 & 1\\\\\n",
       "\t3 & 1 & 0\\\\\n",
       "\t4 & 1 & 1\\\\\n",
       "\t5 & 1 & 1\\\\\n",
       "\t6 & 1 & 1\\\\\n",
       "\t7 & 1 & 1\\\\\n",
       "\t8 & 1 & 1\\\\\n",
       "\t9 & 1 & 1\\\\\n",
       "\t10 & 1 & 1\\\\\n",
       "\t11 & 1 & 1\\\\\n",
       "\t12 & 1 & 1\\\\\n",
       "\t13 & 1 & 0\\\\\n",
       "\t14 & 1 & 1\\\\\n",
       "\t15 & 1 & 0\\\\\n",
       "\t16 & 1 & 0\\\\\n",
       "\t17 & 1 & 1\\\\\n",
       "\t18 & 1 & 1\\\\\n",
       "\t19 & 1 & 1\\\\\n",
       "\t20 & 1 & 1\\\\\n",
       "\t21 & 1 & 0\\\\\n",
       "\t22 & 1 & 1\\\\\n",
       "\t23 & 1 & 1\\\\\n",
       "\t24 & 1 & 1\\\\\n",
       "\t25 & 1 & 1\\\\\n",
       "\t26 & 1 & 1\\\\\n",
       "\t27 & 1 & 0\\\\\n",
       "\t28 & 1 & 1\\\\\n",
       "\t29 & 1 & 1\\\\\n",
       "\t30 & 1 & 1\\\\\n",
       "\t31 & 1 & 1\\\\\n",
       "\t32 & 1 & 0\\\\\n",
       "\t33 & 1 & 0\\\\\n",
       "\t34 & 1 & 1\\\\\n",
       "\t35 & 1 & 1\\\\\n",
       "\t36 & 1 & 0\\\\\n",
       "\t37 & 1 & 1\\\\\n",
       "\t38 & 1 & 1\\\\\n",
       "\t39 & 1 & 1\\\\\n",
       "\t40 & 1 & 1\\\\\n",
       "\t41 & 1 & 1\\\\\n",
       "\t42 & 1 & 1\\\\\n",
       "\t43 & 1 & 1\\\\\n",
       "\t44 & 1 & 0\\\\\n",
       "\t45 & 1 & 1\\\\\n",
       "\t46 & 1 & 1\\\\\n",
       "\t47 & 1 & 1\\\\\n",
       "\\end{tabular}\n"
      ],
      "text/markdown": [
       "\n",
       "A matrix: 47 × 2 of type dbl\n",
       "\n",
       "| <!--/--> | (Intercept) | fBCR/ABL |\n",
       "|---|---|---|\n",
       "| 1 | 1 | 1 |\n",
       "| 2 | 1 | 1 |\n",
       "| 3 | 1 | 0 |\n",
       "| 4 | 1 | 1 |\n",
       "| 5 | 1 | 1 |\n",
       "| 6 | 1 | 1 |\n",
       "| 7 | 1 | 1 |\n",
       "| 8 | 1 | 1 |\n",
       "| 9 | 1 | 1 |\n",
       "| 10 | 1 | 1 |\n",
       "| 11 | 1 | 1 |\n",
       "| 12 | 1 | 1 |\n",
       "| 13 | 1 | 0 |\n",
       "| 14 | 1 | 1 |\n",
       "| 15 | 1 | 0 |\n",
       "| 16 | 1 | 0 |\n",
       "| 17 | 1 | 1 |\n",
       "| 18 | 1 | 1 |\n",
       "| 19 | 1 | 1 |\n",
       "| 20 | 1 | 1 |\n",
       "| 21 | 1 | 0 |\n",
       "| 22 | 1 | 1 |\n",
       "| 23 | 1 | 1 |\n",
       "| 24 | 1 | 1 |\n",
       "| 25 | 1 | 1 |\n",
       "| 26 | 1 | 1 |\n",
       "| 27 | 1 | 0 |\n",
       "| 28 | 1 | 1 |\n",
       "| 29 | 1 | 1 |\n",
       "| 30 | 1 | 1 |\n",
       "| 31 | 1 | 1 |\n",
       "| 32 | 1 | 0 |\n",
       "| 33 | 1 | 0 |\n",
       "| 34 | 1 | 1 |\n",
       "| 35 | 1 | 1 |\n",
       "| 36 | 1 | 0 |\n",
       "| 37 | 1 | 1 |\n",
       "| 38 | 1 | 1 |\n",
       "| 39 | 1 | 1 |\n",
       "| 40 | 1 | 1 |\n",
       "| 41 | 1 | 1 |\n",
       "| 42 | 1 | 1 |\n",
       "| 43 | 1 | 1 |\n",
       "| 44 | 1 | 0 |\n",
       "| 45 | 1 | 1 |\n",
       "| 46 | 1 | 1 |\n",
       "| 47 | 1 | 1 |\n",
       "\n"
      ],
      "text/plain": [
       "   (Intercept) fBCR/ABL\n",
       "1  1           1       \n",
       "2  1           1       \n",
       "3  1           0       \n",
       "4  1           1       \n",
       "5  1           1       \n",
       "6  1           1       \n",
       "7  1           1       \n",
       "8  1           1       \n",
       "9  1           1       \n",
       "10 1           1       \n",
       "11 1           1       \n",
       "12 1           1       \n",
       "13 1           0       \n",
       "14 1           1       \n",
       "15 1           0       \n",
       "16 1           0       \n",
       "17 1           1       \n",
       "18 1           1       \n",
       "19 1           1       \n",
       "20 1           1       \n",
       "21 1           0       \n",
       "22 1           1       \n",
       "23 1           1       \n",
       "24 1           1       \n",
       "25 1           1       \n",
       "26 1           1       \n",
       "27 1           0       \n",
       "28 1           1       \n",
       "29 1           1       \n",
       "30 1           1       \n",
       "31 1           1       \n",
       "32 1           0       \n",
       "33 1           0       \n",
       "34 1           1       \n",
       "35 1           1       \n",
       "36 1           0       \n",
       "37 1           1       \n",
       "38 1           1       \n",
       "39 1           1       \n",
       "40 1           1       \n",
       "41 1           1       \n",
       "42 1           1       \n",
       "43 1           1       \n",
       "44 1           0       \n",
       "45 1           1       \n",
       "46 1           1       \n",
       "47 1           1       "
      ]
     },
     "metadata": {},
     "output_type": "display_data"
    }
   ],
   "source": [
    "design"
   ]
  },
  {
   "cell_type": "markdown",
   "metadata": {
    "id": "y4Jk7AxWkF7P"
   },
   "source": [
    "Select significant genes (gene signature)"
   ]
  },
  {
   "cell_type": "code",
   "execution_count": null,
   "metadata": {
    "colab": {
     "base_uri": "https://localhost:8080/",
     "height": 35
    },
    "id": "5OyASXXbj7W-",
    "outputId": "a0074519-cecc-430d-a7d8-0b25ab4b9eb1"
   },
   "outputs": [
    {
     "data": {
      "text/html": [
       "<style>\n",
       ".dl-inline {width: auto; margin:0; padding: 0}\n",
       ".dl-inline>dt, .dl-inline>dd {float: none; width: auto; display: inline-block}\n",
       ".dl-inline>dt::after {content: \":\\0020\"; padding-right: .5ex}\n",
       ".dl-inline>dt:not(:first-of-type) {padding-left: .5ex}\n",
       "</style><dl class=dl-inline><dt>Features</dt><dd>165</dd><dt>Samples</dt><dd>47</dd></dl>\n"
      ],
      "text/latex": [
       "\\begin{description*}\n",
       "\\item[Features] 165\n",
       "\\item[Samples] 47\n",
       "\\end{description*}\n"
      ],
      "text/markdown": [
       "Features\n",
       ":   165Samples\n",
       ":   47\n",
       "\n"
      ],
      "text/plain": [
       "Features  Samples \n",
       "     165       47 "
      ]
     },
     "metadata": {},
     "output_type": "display_data"
    }
   ],
   "source": [
    "selected <- p.adjust(fit$p.value[, 2]) < 0.05 # select significant genes after multiple test correction (default: Holm–Šidák method)\n",
    "esetSel <- eset[selected, ]  # subset the experimentSet data with significant genes\n",
    "dim(esetSel) # 165 significant genes"
   ]
  },
  {
   "cell_type": "markdown",
   "metadata": {
    "id": "xdvVLys1i0m9"
   },
   "source": [
    "## 3) Heatmap"
   ]
  },
  {
   "cell_type": "markdown",
   "metadata": {
    "id": "haic477nkPdE"
   },
   "source": [
    "Defining colors for each sample by group"
   ]
  },
  {
   "cell_type": "code",
   "execution_count": null,
   "metadata": {
    "id": "dR9Io70GkNQn"
   },
   "outputs": [],
   "source": [
    "group_info <- as.numeric(esetSel$mol) # 1 for ALL1/AF4, 2 for BCR/ABL\n",
    "colvec <- c(\"tomato\", \"midnightblue\")[group_info] # 'tomato' for ALL1/AF4, 'midnightblue' for BCR/ABL"
   ]
  },
  {
   "cell_type": "markdown",
   "metadata": {
    "id": "nxY0gNQekbK6"
   },
   "source": [
    "Heatmap analysis (hierarchical clustering row & colwise)"
   ]
  },
  {
   "cell_type": "code",
   "execution_count": null,
   "metadata": {
    "colab": {
     "base_uri": "https://localhost:8080/",
     "height": 437
    },
    "id": "pk3D-yg_i4Dg",
    "outputId": "2449d7d8-7304-4a49-eb2b-ebda3044958b"
   },
   "outputs": [
    {
     "data": {
      "image/png": "[encoded data removed]",
      "text/plain": [
       "plot without title"
      ]
     },
     "metadata": {
      "image/png": {
       "height": 420,
       "width": 420
      }
     },
     "output_type": "display_data"
    }
   ],
   "source": [
    "heatmap(esetSel@assayData$exprs, ColSideColors = colvec) # each types clustered with gene signature"
   ]
  },
  {
   "cell_type": "markdown",
   "metadata": {
    "id": "rCUuA7DGi1xJ"
   },
   "source": [
    "## 4) Gene Ontology test"
   ]
  },
  {
   "cell_type": "markdown",
   "metadata": {
    "id": "FxNqSsltkiKQ"
   },
   "source": [
    "Annotate to EntrezIDs"
   ]
  },
  {
   "cell_type": "code",
   "execution_count": null,
   "metadata": {
    "id": "LBs4mb18klqE"
   },
   "outputs": [],
   "source": [
    "entrezIds <- unique(setdiff(unlist(mget(featureNames(eset),hgu95av2ENTREZID)), NA)) # 8582 genes have EntrezId within 12625 total genes, excluding NAs\n",
    "entrezIdsSel <- unique(setdiff(unlist(mget(featureNames(esetSel),hgu95av2ENTREZID)), NA)) # 33 genes have EntrezId within 165 significant genes, excluding NAs"
   ]
  },
  {
   "cell_type": "markdown",
   "metadata": {
    "id": "At6PyUfmkmLV"
   },
   "source": [
    "Hypergenometric test: which GO terms are related to our significant gene set"
   ]
  },
  {
   "cell_type": "code",
   "execution_count": null,
   "metadata": {
    "colab": {
     "base_uri": "https://localhost:8080/",
     "height": 255
    },
    "id": "-RNWRj1Mi6bD",
    "outputId": "dd3b53b9-d640-4a23-e68f-a0f7fa625d2c"
   },
   "outputs": [
    {
     "data": {
      "text/html": [
       "<table class=\"dataframe\">\n",
       "<caption>A data.frame: 5 × 7</caption>\n",
       "<thead>\n",
       "\t<tr><th></th><th scope=col>GOBPID</th><th scope=col>Pvalue</th><th scope=col>OddsRatio</th><th scope=col>ExpCount</th><th scope=col>Count</th><th scope=col>Size</th><th scope=col>Term</th></tr>\n",
       "\t<tr><th></th><th scope=col>&lt;chr&gt;</th><th scope=col>&lt;dbl&gt;</th><th scope=col>&lt;dbl&gt;</th><th scope=col>&lt;dbl&gt;</th><th scope=col>&lt;int&gt;</th><th scope=col>&lt;int&gt;</th><th scope=col>&lt;chr&gt;</th></tr>\n",
       "</thead>\n",
       "<tbody>\n",
       "\t<tr><th scope=row>1</th><td>GO:1903037</td><td>1.548343e-06</td><td>4.770861</td><td> 3.903268</td><td>16</td><td>247</td><td>regulation of leukocyte cell-cell adhesion         </td></tr>\n",
       "\t<tr><th scope=row>2</th><td>GO:1903039</td><td>1.605129e-06</td><td>5.423247</td><td> 3.002514</td><td>14</td><td>190</td><td>positive regulation of leukocyte cell-cell adhesion</td></tr>\n",
       "\t<tr><th scope=row>3</th><td>GO:0019221</td><td>2.503935e-06</td><td>3.207579</td><td> 9.639650</td><td>26</td><td>610</td><td>cytokine-mediated signaling pathway                </td></tr>\n",
       "\t<tr><th scope=row>4</th><td>GO:0007159</td><td>6.546285e-06</td><td>4.223342</td><td> 4.361547</td><td>16</td><td>276</td><td>leukocyte cell-cell adhesion                       </td></tr>\n",
       "\t<tr><th scope=row>5</th><td>GO:0071345</td><td>9.527182e-06</td><td>2.747318</td><td>13.037232</td><td>30</td><td>825</td><td>cellular response to cytokine stimulus             </td></tr>\n",
       "</tbody>\n",
       "</table>\n"
      ],
      "text/latex": [
       "A data.frame: 5 × 7\n",
       "\\begin{tabular}{r|lllllll}\n",
       "  & GOBPID & Pvalue & OddsRatio & ExpCount & Count & Size & Term\\\\\n",
       "  & <chr> & <dbl> & <dbl> & <dbl> & <int> & <int> & <chr>\\\\\n",
       "\\hline\n",
       "\t1 & GO:1903037 & 1.548343e-06 & 4.770861 &  3.903268 & 16 & 247 & regulation of leukocyte cell-cell adhesion         \\\\\n",
       "\t2 & GO:1903039 & 1.605129e-06 & 5.423247 &  3.002514 & 14 & 190 & positive regulation of leukocyte cell-cell adhesion\\\\\n",
       "\t3 & GO:0019221 & 2.503935e-06 & 3.207579 &  9.639650 & 26 & 610 & cytokine-mediated signaling pathway                \\\\\n",
       "\t4 & GO:0007159 & 6.546285e-06 & 4.223342 &  4.361547 & 16 & 276 & leukocyte cell-cell adhesion                       \\\\\n",
       "\t5 & GO:0071345 & 9.527182e-06 & 2.747318 & 13.037232 & 30 & 825 & cellular response to cytokine stimulus             \\\\\n",
       "\\end{tabular}\n"
      ],
      "text/markdown": [
       "\n",
       "A data.frame: 5 × 7\n",
       "\n",
       "| <!--/--> | GOBPID &lt;chr&gt; | Pvalue &lt;dbl&gt; | OddsRatio &lt;dbl&gt; | ExpCount &lt;dbl&gt; | Count &lt;int&gt; | Size &lt;int&gt; | Term &lt;chr&gt; |\n",
       "|---|---|---|---|---|---|---|---|\n",
       "| 1 | GO:1903037 | 1.548343e-06 | 4.770861 |  3.903268 | 16 | 247 | regulation of leukocyte cell-cell adhesion          |\n",
       "| 2 | GO:1903039 | 1.605129e-06 | 5.423247 |  3.002514 | 14 | 190 | positive regulation of leukocyte cell-cell adhesion |\n",
       "| 3 | GO:0019221 | 2.503935e-06 | 3.207579 |  9.639650 | 26 | 610 | cytokine-mediated signaling pathway                 |\n",
       "| 4 | GO:0007159 | 6.546285e-06 | 4.223342 |  4.361547 | 16 | 276 | leukocyte cell-cell adhesion                        |\n",
       "| 5 | GO:0071345 | 9.527182e-06 | 2.747318 | 13.037232 | 30 | 825 | cellular response to cytokine stimulus              |\n",
       "\n"
      ],
      "text/plain": [
       "  GOBPID     Pvalue       OddsRatio ExpCount  Count Size\n",
       "1 GO:1903037 1.548343e-06 4.770861   3.903268 16    247 \n",
       "2 GO:1903039 1.605129e-06 5.423247   3.002514 14    190 \n",
       "3 GO:0019221 2.503935e-06 3.207579   9.639650 26    610 \n",
       "4 GO:0007159 6.546285e-06 4.223342   4.361547 16    276 \n",
       "5 GO:0071345 9.527182e-06 2.747318  13.037232 30    825 \n",
       "  Term                                               \n",
       "1 regulation of leukocyte cell-cell adhesion         \n",
       "2 positive regulation of leukocyte cell-cell adhesion\n",
       "3 cytokine-mediated signaling pathway                \n",
       "4 leukocyte cell-cell adhesion                       \n",
       "5 cellular response to cytokine stimulus             "
      ]
     },
     "metadata": {},
     "output_type": "display_data"
    }
   ],
   "source": [
    "params <-  new(\"GOHyperGParams\", # class name\n",
    "               geneIds=entrezIdsSel, # selected genes\n",
    "               universeGeneIds=entrezIds, # total genes\n",
    "               annotation=\"hgu95av2.db\", # DB name\n",
    "               ontology=\"BP\", # which GO category, BP (Biological Process), CC (Cellular Component), MF (Molecular Function)\n",
    "               pvalueCutoff=0.01, #\n",
    "               conditional=FALSE,\n",
    "               testDirection=\"over\") # make object 'GOHyperGParams'\n",
    "\n",
    "res <- hyperGTest(params) # Hypergeometric test\n",
    "df_res <- as.data.frame(summary(res)) # summary the results\n",
    "topSig <- df_res[1:5,] # top 5 significant GO terms\n",
    "topSig"
   ]
  }
 ],
 "metadata": {
  "colab": {
   "collapsed_sections": [],
   "name": "Bioconductor.ipynb",
   "provenance": []
  },
  "kernelspec": {
   "display_name": "R",
   "language": "R",
   "name": "ir"
  },
  "language_info": {
   "codemirror_mode": "r",
   "file_extension": ".r",
   "mimetype": "text/x-r-source",
   "name": "R",
   "pygments_lexer": "r",
   "version": "4.1.1"
  }
 },
 "nbformat": 4,
 "nbformat_minor": 1
}
